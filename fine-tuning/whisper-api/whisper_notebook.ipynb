{
 "cells": [
  {
   "cell_type": "code",
   "execution_count": 2,
   "metadata": {},
   "outputs": [],
   "source": [
    "import json\n",
    "import os\n",
    "import pandas as pd\n",
    "\n",
    "import openai\n",
    "from openai import OpenAI"
   ]
  },
  {
   "cell_type": "code",
   "execution_count": 3,
   "metadata": {},
   "outputs": [],
   "source": [
    "os.environ[\"OPENAI_API_KEY\"] = \"API_KEY\"\n",
    "openai.api_key=os.getenv('OPENAI_API_KEY')\n",
    "\n",
    "client = OpenAI()"
   ]
  },
  {
   "cell_type": "code",
   "execution_count": 4,
   "metadata": {},
   "outputs": [],
   "source": [
    "audio_file = open(\"MLK Dream.mp3\", \"rb\")"
   ]
  },
  {
   "cell_type": "code",
   "execution_count": 5,
   "metadata": {},
   "outputs": [],
   "source": [
    "transcript = client.audio.transcriptions.create(\n",
    "    model='whisper-1',\n",
    "    file=audio_file\n",
    ")"
   ]
  },
  {
   "cell_type": "code",
   "execution_count": 6,
   "metadata": {},
   "outputs": [
    {
     "name": "stdout",
     "output_type": "stream",
     "text": [
      "I have the pleasure to present to you, Dr. Martin Luther King, Jr. I am happy to join with you today in what will go down in history as the greatest demonstration for freedom in the history of our nation. Five score years ago, a great American, in whose symbolic shadow we stand today, signed the Emancipation Proclamation. This momentous decree came as a great beacon light of hope to millions of Negro slaves who had been seared in the flames of withering injustice. It came as a joyous daybreak to\n"
     ]
    }
   ],
   "source": [
    "print(transcript.text[:500])"
   ]
  },
  {
   "cell_type": "code",
   "execution_count": 7,
   "metadata": {},
   "outputs": [],
   "source": [
    "system_prompt = \"You are a proficient AI with a specialty in distilling information into key points. Based on the following text, identify and list the main points that were discussed or brought up. These should be the most important ideas, findings, or topics that are crucial to the essence of the discussion. Your goal is to provide a list that someone could read to quickly understand what was talked about.\""
   ]
  },
  {
   "cell_type": "code",
   "execution_count": 9,
   "metadata": {},
   "outputs": [],
   "source": [
    "# using the chat completion AI to generate a summary\n",
    "\n",
    "response = client.chat.completions.create(\n",
    "    model='gpt-4',\n",
    "    temperature=0.5,\n",
    "    messages=[\n",
    "        {\n",
    "            'role':'system',\n",
    "            'content': system_prompt,\n",
    "        },\n",
    "        {\n",
    "            'role':'user',\n",
    "            \"content\":transcript.text\n",
    "        }\n",
    "    ]\n",
    ")"
   ]
  },
  {
   "cell_type": "code",
   "execution_count": 10,
   "metadata": {},
   "outputs": [
    {
     "name": "stdout",
     "output_type": "stream",
     "text": [
      "1. The speaker is presenting Dr. Martin Luther King Jr. and his famous speech about racial injustice and the fight for equality in America.\n",
      "2. The Emancipation Proclamation was a beacon of hope for millions of slaves, but even 100 years later, African Americans are still not free.\n",
      "3. African Americans face segregation, discrimination, and poverty, and are often marginalized in American society.\n",
      "4. The Constitution and the Declaration of Independence promised all men, regardless of color, the rights of life, liberty, and the pursuit of happiness, but America has defaulted on this promise for its citizens of color.\n",
      "5. The speaker emphasizes the urgency of the moment, calling for immediate action to make real the promises of democracy and to rise from the valley of segregation to the path of racial justice.\n",
      "6. There will be no rest or tranquility in America until African Americans are granted their full citizenship rights.\n",
      "7. The speaker urges his audience not to be guilty of wrongful deeds in their fight for freedom and not to let their protest degenerate into physical violence.\n",
      "8. The speaker acknowledges that many white people have come to realize that their freedom is bound to the freedom of African Americans.\n",
      "9. The speaker stresses that they cannot be satisfied as long as African Americans are victims of police brutality, denied basic rights, and judged by the color of their skin rather than their character.\n",
      "10. The speaker shares his dream that one day America will live out its creed that all men are created equal, and that his children will live in a nation where they are judged by their character, not their skin color.\n",
      "11. The speaker hopes for a day when every valley shall be exalted, every hill and mountain made low, and all will see the glory of the Lord together.\n",
      "12. The speaker calls for freedom to ring from every corner of America, and when that happens, all of God's children will be able to join hands and sing in the words of the old Negro spiritual, \"Free at last, free at last, thank God almighty, we are free at last.\"\n"
     ]
    }
   ],
   "source": [
    "print(response.choices[0].message.content)"
   ]
  },
  {
   "cell_type": "code",
   "execution_count": null,
   "metadata": {},
   "outputs": [],
   "source": []
  }
 ],
 "metadata": {
  "kernelspec": {
   "display_name": "Python 3",
   "language": "python",
   "name": "python3"
  },
  "language_info": {
   "codemirror_mode": {
    "name": "ipython",
    "version": 3
   },
   "file_extension": ".py",
   "mimetype": "text/x-python",
   "name": "python",
   "nbconvert_exporter": "python",
   "pygments_lexer": "ipython3",
   "version": "3.10.13"
  }
 },
 "nbformat": 4,
 "nbformat_minor": 2
}
