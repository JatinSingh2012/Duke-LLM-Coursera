{
 "cells": [
  {
   "cell_type": "code",
   "execution_count": 1,
   "metadata": {},
   "outputs": [],
   "source": [
    "import os\n",
    "import json\n",
    "import pandas as pd"
   ]
  },
  {
   "cell_type": "code",
   "execution_count": 2,
   "metadata": {},
   "outputs": [],
   "source": [
    "pd.set_option('display.max_colwidth', None)  # never truncate cell text\n",
    "# For many columns also widen the table if needed:\n",
    "pd.set_option('display.width', 200)\n",
    "pd.set_option('display.max_columns', None)"
   ]
  },
  {
   "cell_type": "code",
   "execution_count": 3,
   "metadata": {},
   "outputs": [
    {
     "name": "stdout",
     "output_type": "stream",
     "text": [
      "Collecting kagglehub\n",
      "  Downloading kagglehub-0.3.12-py3-none-any.whl.metadata (38 kB)\n",
      "Requirement already satisfied: packaging in /home/codespace/.local/lib/python3.12/site-packages (from kagglehub) (25.0)\n",
      "Requirement already satisfied: pyyaml in /home/codespace/.local/lib/python3.12/site-packages (from kagglehub) (6.0.2)\n",
      "Requirement already satisfied: requests in /home/codespace/.local/lib/python3.12/site-packages (from kagglehub) (2.32.4)\n",
      "Collecting tqdm (from kagglehub)\n",
      "  Downloading tqdm-4.67.1-py3-none-any.whl.metadata (57 kB)\n",
      "Requirement already satisfied: charset_normalizer<4,>=2 in /home/codespace/.local/lib/python3.12/site-packages (from requests->kagglehub) (3.4.2)\n",
      "Requirement already satisfied: idna<4,>=2.5 in /home/codespace/.local/lib/python3.12/site-packages (from requests->kagglehub) (3.10)\n",
      "Requirement already satisfied: urllib3<3,>=1.21.1 in /home/codespace/.local/lib/python3.12/site-packages (from requests->kagglehub) (2.5.0)\n",
      "Requirement already satisfied: certifi>=2017.4.17 in /home/codespace/.local/lib/python3.12/site-packages (from requests->kagglehub) (2025.7.9)\n",
      "Downloading kagglehub-0.3.12-py3-none-any.whl (67 kB)\n",
      "Downloading tqdm-4.67.1-py3-none-any.whl (78 kB)\n",
      "Installing collected packages: tqdm, kagglehub\n",
      "\u001b[2K   \u001b[90m━━━━━━━━━━━━━━━━━━━━━━━━━━━━━━━━━━━━━━━━\u001b[0m \u001b[32m2/2\u001b[0m [kagglehub]\n",
      "\u001b[1A\u001b[2KSuccessfully installed kagglehub-0.3.12 tqdm-4.67.1\n",
      "\n",
      "\u001b[1m[\u001b[0m\u001b[34;49mnotice\u001b[0m\u001b[1;39;49m]\u001b[0m\u001b[39;49m A new release of pip is available: \u001b[0m\u001b[31;49m25.1.1\u001b[0m\u001b[39;49m -> \u001b[0m\u001b[32;49m25.2\u001b[0m\n",
      "\u001b[1m[\u001b[0m\u001b[34;49mnotice\u001b[0m\u001b[1;39;49m]\u001b[0m\u001b[39;49m To update, run: \u001b[0m\u001b[32;49mpython3 -m pip install --upgrade pip\u001b[0m\n"
     ]
    }
   ],
   "source": [
    "\n",
    "!pip install kagglehub "
   ]
  },
  {
   "cell_type": "code",
   "execution_count": 4,
   "metadata": {},
   "outputs": [
    {
     "name": "stderr",
     "output_type": "stream",
     "text": [
      "/usr/local/python/3.12.1/lib/python3.12/site-packages/tqdm/auto.py:21: TqdmWarning: IProgress not found. Please update jupyter and ipywidgets. See https://ipywidgets.readthedocs.io/en/stable/user_install.html\n",
      "  from .autonotebook import tqdm as notebook_tqdm\n"
     ]
    },
    {
     "name": "stdout",
     "output_type": "stream",
     "text": [
      "Downloading from https://www.kaggle.com/api/v1/datasets/download/pavellexyr/ten-million-reddit-answers?dataset_version_number=1...\n"
     ]
    },
    {
     "name": "stderr",
     "output_type": "stream",
     "text": [
      "100%|██████████| 858M/858M [00:06<00:00, 132MB/s]  "
     ]
    },
    {
     "name": "stdout",
     "output_type": "stream",
     "text": [
      "Extracting files...\n"
     ]
    },
    {
     "name": "stderr",
     "output_type": "stream",
     "text": [
      "\n"
     ]
    },
    {
     "name": "stdout",
     "output_type": "stream",
     "text": [
      "Path to dataset files: /home/codespace/.cache/kagglehub/datasets/pavellexyr/ten-million-reddit-answers/versions/1\n"
     ]
    }
   ],
   "source": [
    "import kagglehub\n",
    "\n",
    "# Download latest version\n",
    "path = kagglehub.dataset_download(\"pavellexyr/ten-million-reddit-answers\")\n",
    "\n",
    "print(\"Path to dataset files:\", path)"
   ]
  },
  {
   "cell_type": "code",
   "execution_count": 3,
   "metadata": {},
   "outputs": [],
   "source": [
    "\n",
    "\n",
    "df_answers = pd.read_csv(\"/home/codespace/.cache/kagglehub/datasets/pavellexyr/ten-million-reddit-answers/versions/1/ten-million-reddit-answers.csv\")"
   ]
  },
  {
   "cell_type": "code",
   "execution_count": 4,
   "metadata": {},
   "outputs": [
    {
     "data": {
      "text/html": [
       "<div>\n",
       "<style scoped>\n",
       "    .dataframe tbody tr th:only-of-type {\n",
       "        vertical-align: middle;\n",
       "    }\n",
       "\n",
       "    .dataframe tbody tr th {\n",
       "        vertical-align: top;\n",
       "    }\n",
       "\n",
       "    .dataframe thead th {\n",
       "        text-align: right;\n",
       "    }\n",
       "</style>\n",
       "<table border=\"1\" class=\"dataframe\">\n",
       "  <thead>\n",
       "    <tr style=\"text-align: right;\">\n",
       "      <th></th>\n",
       "      <th>type</th>\n",
       "      <th>id</th>\n",
       "      <th>subreddit.id</th>\n",
       "      <th>subreddit.name</th>\n",
       "      <th>subreddit.nsfw</th>\n",
       "      <th>created_utc</th>\n",
       "      <th>permalink</th>\n",
       "      <th>body</th>\n",
       "      <th>sentiment</th>\n",
       "      <th>score</th>\n",
       "    </tr>\n",
       "  </thead>\n",
       "  <tbody>\n",
       "    <tr>\n",
       "      <th>0</th>\n",
       "      <td>comment</td>\n",
       "      <td>ge7etc6</td>\n",
       "      <td>2qh1i</td>\n",
       "      <td>askreddit</td>\n",
       "      <td>False</td>\n",
       "      <td>1606780799</td>\n",
       "      <td>https://old.reddit.com/r/AskReddit/comments/k3w3qz/someone_offers_you_100hr_to_watch_any_movie_on/ge7etc6/</td>\n",
       "      <td>The Good, The Bad, and the Ugly, it’s just so rewatch able and it’s like 3 hours. Or Willy Wonka and the Chocolate Factory because Gene Wilder’s performance in that movie is genuine gold.</td>\n",
       "      <td>-0.3400</td>\n",
       "      <td>1</td>\n",
       "    </tr>\n",
       "    <tr>\n",
       "      <th>1</th>\n",
       "      <td>comment</td>\n",
       "      <td>ge7etdb</td>\n",
       "      <td>2qh1i</td>\n",
       "      <td>askreddit</td>\n",
       "      <td>False</td>\n",
       "      <td>1606780799</td>\n",
       "      <td>https://old.reddit.com/r/AskReddit/comments/k3x1kz/are_you_proud_of_your_own_nationality_why_or_why/ge7etdb/</td>\n",
       "      <td>Well, as a Bohemian, it really just doesn't matter much anymore.</td>\n",
       "      <td>0.1931</td>\n",
       "      <td>1</td>\n",
       "    </tr>\n",
       "    <tr>\n",
       "      <th>2</th>\n",
       "      <td>comment</td>\n",
       "      <td>ge7et9h</td>\n",
       "      <td>2qh1i</td>\n",
       "      <td>askreddit</td>\n",
       "      <td>False</td>\n",
       "      <td>1606780798</td>\n",
       "      <td>https://old.reddit.com/r/AskReddit/comments/k48pqd/if_you_can_choose_one_power_that_has_to_do_with/ge7et9h/</td>\n",
       "      <td>Telekinesis</td>\n",
       "      <td>NaN</td>\n",
       "      <td>2</td>\n",
       "    </tr>\n",
       "  </tbody>\n",
       "</table>\n",
       "</div>"
      ],
      "text/plain": [
       "      type       id subreddit.id subreddit.name  subreddit.nsfw  created_utc                                                                                                     permalink  \\\n",
       "0  comment  ge7etc6        2qh1i      askreddit           False   1606780799    https://old.reddit.com/r/AskReddit/comments/k3w3qz/someone_offers_you_100hr_to_watch_any_movie_on/ge7etc6/   \n",
       "1  comment  ge7etdb        2qh1i      askreddit           False   1606780799  https://old.reddit.com/r/AskReddit/comments/k3x1kz/are_you_proud_of_your_own_nationality_why_or_why/ge7etdb/   \n",
       "2  comment  ge7et9h        2qh1i      askreddit           False   1606780798   https://old.reddit.com/r/AskReddit/comments/k48pqd/if_you_can_choose_one_power_that_has_to_do_with/ge7et9h/   \n",
       "\n",
       "                                                                                                                                                                                          body  \\\n",
       "0  The Good, The Bad, and the Ugly, it’s just so rewatch able and it’s like 3 hours. Or Willy Wonka and the Chocolate Factory because Gene Wilder’s performance in that movie is genuine gold.   \n",
       "1                                                                                                                             Well, as a Bohemian, it really just doesn't matter much anymore.   \n",
       "2                                                                                                                                                                                  Telekinesis   \n",
       "\n",
       "   sentiment  score  \n",
       "0    -0.3400      1  \n",
       "1     0.1931      1  \n",
       "2        NaN      2  "
      ]
     },
     "execution_count": 4,
     "metadata": {},
     "output_type": "execute_result"
    }
   ],
   "source": [
    "df_answers.head(3)"
   ]
  },
  {
   "cell_type": "code",
   "execution_count": 19,
   "metadata": {},
   "outputs": [
    {
     "data": {
      "text/html": [
       "<div>\n",
       "<style scoped>\n",
       "    .dataframe tbody tr th:only-of-type {\n",
       "        vertical-align: middle;\n",
       "    }\n",
       "\n",
       "    .dataframe tbody tr th {\n",
       "        vertical-align: top;\n",
       "    }\n",
       "\n",
       "    .dataframe thead th {\n",
       "        text-align: right;\n",
       "    }\n",
       "</style>\n",
       "<table border=\"1\" class=\"dataframe\">\n",
       "  <thead>\n",
       "    <tr style=\"text-align: right;\">\n",
       "      <th></th>\n",
       "      <th>type</th>\n",
       "      <th>id</th>\n",
       "      <th>subreddit.id</th>\n",
       "      <th>subreddit.name</th>\n",
       "      <th>subreddit.nsfw</th>\n",
       "      <th>created_utc</th>\n",
       "      <th>permalink</th>\n",
       "      <th>body</th>\n",
       "      <th>sentiment</th>\n",
       "      <th>score</th>\n",
       "    </tr>\n",
       "  </thead>\n",
       "  <tbody>\n",
       "    <tr>\n",
       "      <th>0</th>\n",
       "      <td>comment</td>\n",
       "      <td>ge7etc6</td>\n",
       "      <td>2qh1i</td>\n",
       "      <td>askreddit</td>\n",
       "      <td>False</td>\n",
       "      <td>1606780799</td>\n",
       "      <td>https://old.reddit.com/r/AskReddit/comments/k3w3qz/someone_offers_you_100hr_to_watch_any_movie_on/ge7etc6/</td>\n",
       "      <td>The Good, The Bad, and the Ugly, it’s just so rewatch able and it’s like 3 hours. Or Willy Wonka and the Chocolate Factory because Gene Wilder’s performance in that movie is genuine gold.</td>\n",
       "      <td>-0.3400</td>\n",
       "      <td>1</td>\n",
       "    </tr>\n",
       "    <tr>\n",
       "      <th>1</th>\n",
       "      <td>comment</td>\n",
       "      <td>ge7etdb</td>\n",
       "      <td>2qh1i</td>\n",
       "      <td>askreddit</td>\n",
       "      <td>False</td>\n",
       "      <td>1606780799</td>\n",
       "      <td>https://old.reddit.com/r/AskReddit/comments/k3x1kz/are_you_proud_of_your_own_nationality_why_or_why/ge7etdb/</td>\n",
       "      <td>Well, as a Bohemian, it really just doesn't matter much anymore.</td>\n",
       "      <td>0.1931</td>\n",
       "      <td>1</td>\n",
       "    </tr>\n",
       "    <tr>\n",
       "      <th>2</th>\n",
       "      <td>comment</td>\n",
       "      <td>ge7et9h</td>\n",
       "      <td>2qh1i</td>\n",
       "      <td>askreddit</td>\n",
       "      <td>False</td>\n",
       "      <td>1606780798</td>\n",
       "      <td>https://old.reddit.com/r/AskReddit/comments/k48pqd/if_you_can_choose_one_power_that_has_to_do_with/ge7et9h/</td>\n",
       "      <td>Telekinesis</td>\n",
       "      <td>NaN</td>\n",
       "      <td>2</td>\n",
       "    </tr>\n",
       "  </tbody>\n",
       "</table>\n",
       "</div>"
      ],
      "text/plain": [
       "      type       id subreddit.id subreddit.name  subreddit.nsfw  created_utc                                                                                                     permalink  \\\n",
       "0  comment  ge7etc6        2qh1i      askreddit           False   1606780799    https://old.reddit.com/r/AskReddit/comments/k3w3qz/someone_offers_you_100hr_to_watch_any_movie_on/ge7etc6/   \n",
       "1  comment  ge7etdb        2qh1i      askreddit           False   1606780799  https://old.reddit.com/r/AskReddit/comments/k3x1kz/are_you_proud_of_your_own_nationality_why_or_why/ge7etdb/   \n",
       "2  comment  ge7et9h        2qh1i      askreddit           False   1606780798   https://old.reddit.com/r/AskReddit/comments/k48pqd/if_you_can_choose_one_power_that_has_to_do_with/ge7et9h/   \n",
       "\n",
       "                                                                                                                                                                                          body  \\\n",
       "0  The Good, The Bad, and the Ugly, it’s just so rewatch able and it’s like 3 hours. Or Willy Wonka and the Chocolate Factory because Gene Wilder’s performance in that movie is genuine gold.   \n",
       "1                                                                                                                             Well, as a Bohemian, it really just doesn't matter much anymore.   \n",
       "2                                                                                                                                                                                  Telekinesis   \n",
       "\n",
       "   sentiment  score  \n",
       "0    -0.3400      1  \n",
       "1     0.1931      1  \n",
       "2        NaN      2  "
      ]
     },
     "execution_count": 19,
     "metadata": {},
     "output_type": "execute_result"
    }
   ],
   "source": [
    "df_answers.loc[(df_answers[\"subreddit.id\"]==\"2qh1i\")].head(3)"
   ]
  },
  {
   "cell_type": "code",
   "execution_count": 12,
   "metadata": {},
   "outputs": [
    {
     "data": {
      "text/plain": [
       "10000000"
      ]
     },
     "execution_count": 12,
     "metadata": {},
     "output_type": "execute_result"
    }
   ],
   "source": [
    "df_answers.id.nunique()"
   ]
  },
  {
   "cell_type": "code",
   "execution_count": 13,
   "metadata": {},
   "outputs": [
    {
     "data": {
      "text/plain": [
       "(10000000, 10)"
      ]
     },
     "execution_count": 13,
     "metadata": {},
     "output_type": "execute_result"
    }
   ],
   "source": [
    "df_answers.shape"
   ]
  },
  {
   "cell_type": "code",
   "execution_count": 15,
   "metadata": {},
   "outputs": [
    {
     "data": {
      "text/plain": [
       "10000000"
      ]
     },
     "execution_count": 15,
     "metadata": {},
     "output_type": "execute_result"
    }
   ],
   "source": [
    "df_answers.permalink.nunique()"
   ]
  },
  {
   "cell_type": "code",
   "execution_count": 4,
   "metadata": {},
   "outputs": [],
   "source": [
    "df_questions = pd.read_csv(\"/home/codespace/.cache/kagglehub/datasets/pavellexyr/ten-million-reddit-answers/versions/1/ten-million-reddit-answers-questions.csv\")"
   ]
  },
  {
   "cell_type": "code",
   "execution_count": 14,
   "metadata": {},
   "outputs": [
    {
     "data": {
      "text/plain": [
       "631063"
      ]
     },
     "execution_count": 14,
     "metadata": {},
     "output_type": "execute_result"
    }
   ],
   "source": [
    "df_questions.id.nunique()"
   ]
  },
  {
   "cell_type": "code",
   "execution_count": 16,
   "metadata": {},
   "outputs": [
    {
     "data": {
      "text/plain": [
       "631063"
      ]
     },
     "execution_count": 16,
     "metadata": {},
     "output_type": "execute_result"
    }
   ],
   "source": [
    "df_questions.permalink.nunique()"
   ]
  },
  {
   "cell_type": "code",
   "execution_count": 6,
   "metadata": {},
   "outputs": [
    {
     "data": {
      "text/html": [
       "<div>\n",
       "<style scoped>\n",
       "    .dataframe tbody tr th:only-of-type {\n",
       "        vertical-align: middle;\n",
       "    }\n",
       "\n",
       "    .dataframe tbody tr th {\n",
       "        vertical-align: top;\n",
       "    }\n",
       "\n",
       "    .dataframe thead th {\n",
       "        text-align: right;\n",
       "    }\n",
       "</style>\n",
       "<table border=\"1\" class=\"dataframe\">\n",
       "  <thead>\n",
       "    <tr style=\"text-align: right;\">\n",
       "      <th></th>\n",
       "      <th>type</th>\n",
       "      <th>id</th>\n",
       "      <th>subreddit.id</th>\n",
       "      <th>subreddit.name</th>\n",
       "      <th>subreddit.nsfw</th>\n",
       "      <th>created_utc</th>\n",
       "      <th>permalink</th>\n",
       "      <th>domain</th>\n",
       "      <th>url</th>\n",
       "      <th>selftext</th>\n",
       "      <th>title</th>\n",
       "      <th>score</th>\n",
       "    </tr>\n",
       "  </thead>\n",
       "  <tbody>\n",
       "    <tr>\n",
       "      <th>0</th>\n",
       "      <td>post</td>\n",
       "      <td>hp5581</td>\n",
       "      <td>2qh1i</td>\n",
       "      <td>askreddit</td>\n",
       "      <td>False</td>\n",
       "      <td>1594447809</td>\n",
       "      <td>https://old.reddit.com/r/AskReddit/comments/hp5581/what_is_something_that_you_will_never_forget/</td>\n",
       "      <td>self.askreddit</td>\n",
       "      <td>https://www.reddit.com/r/AskReddit/comments/hp5581/what_is_something_that_you_will_never_forget/</td>\n",
       "      <td>NaN</td>\n",
       "      <td>What is something that you will never forget ?</td>\n",
       "      <td>6</td>\n",
       "    </tr>\n",
       "    <tr>\n",
       "      <th>1</th>\n",
       "      <td>post</td>\n",
       "      <td>jkh2hg</td>\n",
       "      <td>2qh1i</td>\n",
       "      <td>askreddit</td>\n",
       "      <td>False</td>\n",
       "      <td>1604000428</td>\n",
       "      <td>https://old.reddit.com/r/AskReddit/comments/jkh2hg/what_one_moment_made_someone_nose_dive_their/</td>\n",
       "      <td>self.askreddit</td>\n",
       "      <td>https://www.reddit.com/r/AskReddit/comments/jkh2hg/what_one_moment_made_someone_nose_dive_their/</td>\n",
       "      <td>NaN</td>\n",
       "      <td>What one moment made someone nose dive their entire career?</td>\n",
       "      <td>2</td>\n",
       "    </tr>\n",
       "    <tr>\n",
       "      <th>2</th>\n",
       "      <td>post</td>\n",
       "      <td>jnk1pq</td>\n",
       "      <td>2qh1i</td>\n",
       "      <td>askreddit</td>\n",
       "      <td>False</td>\n",
       "      <td>1604441310</td>\n",
       "      <td>https://old.reddit.com/r/AskReddit/comments/jnk1pq/what_is_the_absolute_greatest_pinnacle_best_song/</td>\n",
       "      <td>self.askreddit</td>\n",
       "      <td>NaN</td>\n",
       "      <td>[deleted]</td>\n",
       "      <td>What is the absolute greatest, pinnacle, best song from a musical?</td>\n",
       "      <td>2</td>\n",
       "    </tr>\n",
       "    <tr>\n",
       "      <th>3</th>\n",
       "      <td>post</td>\n",
       "      <td>jepd7w</td>\n",
       "      <td>2qh1i</td>\n",
       "      <td>askreddit</td>\n",
       "      <td>False</td>\n",
       "      <td>1603200144</td>\n",
       "      <td>https://old.reddit.com/r/AskReddit/comments/jepd7w/what_is_some_horrible_advice_that_you_have_been/</td>\n",
       "      <td>self.askreddit</td>\n",
       "      <td>https://www.reddit.com/r/AskReddit/comments/jepd7w/what_is_some_horrible_advice_that_you_have_been/</td>\n",
       "      <td>NaN</td>\n",
       "      <td>What is some horrible advice that you have been told?</td>\n",
       "      <td>7</td>\n",
       "    </tr>\n",
       "    <tr>\n",
       "      <th>4</th>\n",
       "      <td>post</td>\n",
       "      <td>jw2fs9</td>\n",
       "      <td>2qh1i</td>\n",
       "      <td>askreddit</td>\n",
       "      <td>False</td>\n",
       "      <td>1605649984</td>\n",
       "      <td>https://old.reddit.com/r/AskReddit/comments/jw2fs9/what_item_you_wanted_so_bad_when_you_were_a_kid/</td>\n",
       "      <td>self.askreddit</td>\n",
       "      <td>https://www.reddit.com/r/AskReddit/comments/jw2fs9/what_item_you_wanted_so_bad_when_you_were_a_kid/</td>\n",
       "      <td>NaN</td>\n",
       "      <td>What item you wanted so bad when you were a kid but couldn’t afford it?</td>\n",
       "      <td>2</td>\n",
       "    </tr>\n",
       "  </tbody>\n",
       "</table>\n",
       "</div>"
      ],
      "text/plain": [
       "   type      id subreddit.id subreddit.name  subreddit.nsfw  created_utc                                                                                             permalink          domain  \\\n",
       "0  post  hp5581        2qh1i      askreddit           False   1594447809      https://old.reddit.com/r/AskReddit/comments/hp5581/what_is_something_that_you_will_never_forget/  self.askreddit   \n",
       "1  post  jkh2hg        2qh1i      askreddit           False   1604000428      https://old.reddit.com/r/AskReddit/comments/jkh2hg/what_one_moment_made_someone_nose_dive_their/  self.askreddit   \n",
       "2  post  jnk1pq        2qh1i      askreddit           False   1604441310  https://old.reddit.com/r/AskReddit/comments/jnk1pq/what_is_the_absolute_greatest_pinnacle_best_song/  self.askreddit   \n",
       "3  post  jepd7w        2qh1i      askreddit           False   1603200144   https://old.reddit.com/r/AskReddit/comments/jepd7w/what_is_some_horrible_advice_that_you_have_been/  self.askreddit   \n",
       "4  post  jw2fs9        2qh1i      askreddit           False   1605649984   https://old.reddit.com/r/AskReddit/comments/jw2fs9/what_item_you_wanted_so_bad_when_you_were_a_kid/  self.askreddit   \n",
       "\n",
       "                                                                                                   url   selftext                                                                    title  score  \n",
       "0     https://www.reddit.com/r/AskReddit/comments/hp5581/what_is_something_that_you_will_never_forget/        NaN                           What is something that you will never forget ?      6  \n",
       "1     https://www.reddit.com/r/AskReddit/comments/jkh2hg/what_one_moment_made_someone_nose_dive_their/        NaN              What one moment made someone nose dive their entire career?      2  \n",
       "2                                                                                                  NaN  [deleted]       What is the absolute greatest, pinnacle, best song from a musical?      2  \n",
       "3  https://www.reddit.com/r/AskReddit/comments/jepd7w/what_is_some_horrible_advice_that_you_have_been/        NaN                    What is some horrible advice that you have been told?      7  \n",
       "4  https://www.reddit.com/r/AskReddit/comments/jw2fs9/what_item_you_wanted_so_bad_when_you_were_a_kid/        NaN  What item you wanted so bad when you were a kid but couldn’t afford it?      2  "
      ]
     },
     "execution_count": 6,
     "metadata": {},
     "output_type": "execute_result"
    }
   ],
   "source": [
    "df_questions.head()"
   ]
  },
  {
   "cell_type": "code",
   "execution_count": 5,
   "metadata": {},
   "outputs": [],
   "source": [
    "import re\n",
    "from typing import Optional\n",
    "\n",
    "# Add (or reuse) cached submission_id columns for efficiency\n",
    "if '_submission_id' not in df_answers.columns:\n",
    "    df_answers['_submission_id'] = df_answers['permalink'].str.extract(r'/comments/([a-z0-9]+)/')\n",
    "if '_submission_id' not in df_questions.columns:\n",
    "    df_questions['_submission_id'] = df_questions['permalink'].str.extract(r'/comments/([a-z0-9]+)/')\n",
    "\n",
    "# Also normalize parent ids for hierarchical traversal if needed\n",
    "if '_parent_norm' not in df_answers.columns and 'parent_id' in df_answers.columns:\n",
    "    df_answers['_parent_norm'] = df_answers['parent_id'].astype(str).str.replace(r'^(t1_|t3_)', '', regex=True)"
   ]
  },
  {
   "cell_type": "code",
   "execution_count": 8,
   "metadata": {},
   "outputs": [
    {
     "data": {
      "text/html": [
       "<div>\n",
       "<style scoped>\n",
       "    .dataframe tbody tr th:only-of-type {\n",
       "        vertical-align: middle;\n",
       "    }\n",
       "\n",
       "    .dataframe tbody tr th {\n",
       "        vertical-align: top;\n",
       "    }\n",
       "\n",
       "    .dataframe thead th {\n",
       "        text-align: right;\n",
       "    }\n",
       "</style>\n",
       "<table border=\"1\" class=\"dataframe\">\n",
       "  <thead>\n",
       "    <tr style=\"text-align: right;\">\n",
       "      <th></th>\n",
       "      <th>type</th>\n",
       "      <th>id</th>\n",
       "      <th>subreddit.id</th>\n",
       "      <th>subreddit.name</th>\n",
       "      <th>subreddit.nsfw</th>\n",
       "      <th>created_utc</th>\n",
       "      <th>permalink</th>\n",
       "      <th>body</th>\n",
       "      <th>sentiment</th>\n",
       "      <th>score</th>\n",
       "      <th>_submission_id</th>\n",
       "    </tr>\n",
       "  </thead>\n",
       "  <tbody>\n",
       "    <tr>\n",
       "      <th>0</th>\n",
       "      <td>comment</td>\n",
       "      <td>ge7etc6</td>\n",
       "      <td>2qh1i</td>\n",
       "      <td>askreddit</td>\n",
       "      <td>False</td>\n",
       "      <td>1606780799</td>\n",
       "      <td>https://old.reddit.com/r/AskReddit/comments/k3w3qz/someone_offers_you_100hr_to_watch_any_movie_on/ge7etc6/</td>\n",
       "      <td>The Good, The Bad, and the Ugly, it’s just so rewatch able and it’s like 3 hours. Or Willy Wonka and the Chocolate Factory because Gene Wilder’s performance in that movie is genuine gold.</td>\n",
       "      <td>-0.3400</td>\n",
       "      <td>1</td>\n",
       "      <td>k3w3qz</td>\n",
       "    </tr>\n",
       "    <tr>\n",
       "      <th>1</th>\n",
       "      <td>comment</td>\n",
       "      <td>ge7etdb</td>\n",
       "      <td>2qh1i</td>\n",
       "      <td>askreddit</td>\n",
       "      <td>False</td>\n",
       "      <td>1606780799</td>\n",
       "      <td>https://old.reddit.com/r/AskReddit/comments/k3x1kz/are_you_proud_of_your_own_nationality_why_or_why/ge7etdb/</td>\n",
       "      <td>Well, as a Bohemian, it really just doesn't matter much anymore.</td>\n",
       "      <td>0.1931</td>\n",
       "      <td>1</td>\n",
       "      <td>k3x1kz</td>\n",
       "    </tr>\n",
       "    <tr>\n",
       "      <th>2</th>\n",
       "      <td>comment</td>\n",
       "      <td>ge7et9h</td>\n",
       "      <td>2qh1i</td>\n",
       "      <td>askreddit</td>\n",
       "      <td>False</td>\n",
       "      <td>1606780798</td>\n",
       "      <td>https://old.reddit.com/r/AskReddit/comments/k48pqd/if_you_can_choose_one_power_that_has_to_do_with/ge7et9h/</td>\n",
       "      <td>Telekinesis</td>\n",
       "      <td>NaN</td>\n",
       "      <td>2</td>\n",
       "      <td>k48pqd</td>\n",
       "    </tr>\n",
       "  </tbody>\n",
       "</table>\n",
       "</div>"
      ],
      "text/plain": [
       "      type       id subreddit.id subreddit.name  subreddit.nsfw  created_utc                                                                                                     permalink  \\\n",
       "0  comment  ge7etc6        2qh1i      askreddit           False   1606780799    https://old.reddit.com/r/AskReddit/comments/k3w3qz/someone_offers_you_100hr_to_watch_any_movie_on/ge7etc6/   \n",
       "1  comment  ge7etdb        2qh1i      askreddit           False   1606780799  https://old.reddit.com/r/AskReddit/comments/k3x1kz/are_you_proud_of_your_own_nationality_why_or_why/ge7etdb/   \n",
       "2  comment  ge7et9h        2qh1i      askreddit           False   1606780798   https://old.reddit.com/r/AskReddit/comments/k48pqd/if_you_can_choose_one_power_that_has_to_do_with/ge7et9h/   \n",
       "\n",
       "                                                                                                                                                                                          body  \\\n",
       "0  The Good, The Bad, and the Ugly, it’s just so rewatch able and it’s like 3 hours. Or Willy Wonka and the Chocolate Factory because Gene Wilder’s performance in that movie is genuine gold.   \n",
       "1                                                                                                                             Well, as a Bohemian, it really just doesn't matter much anymore.   \n",
       "2                                                                                                                                                                                  Telekinesis   \n",
       "\n",
       "   sentiment  score _submission_id  \n",
       "0    -0.3400      1         k3w3qz  \n",
       "1     0.1931      1         k3x1kz  \n",
       "2        NaN      2         k48pqd  "
      ]
     },
     "execution_count": 8,
     "metadata": {},
     "output_type": "execute_result"
    }
   ],
   "source": [
    "df_answers.head(3)"
   ]
  },
  {
   "cell_type": "code",
   "execution_count": 9,
   "metadata": {},
   "outputs": [
    {
     "data": {
      "text/html": [
       "<div>\n",
       "<style scoped>\n",
       "    .dataframe tbody tr th:only-of-type {\n",
       "        vertical-align: middle;\n",
       "    }\n",
       "\n",
       "    .dataframe tbody tr th {\n",
       "        vertical-align: top;\n",
       "    }\n",
       "\n",
       "    .dataframe thead th {\n",
       "        text-align: right;\n",
       "    }\n",
       "</style>\n",
       "<table border=\"1\" class=\"dataframe\">\n",
       "  <thead>\n",
       "    <tr style=\"text-align: right;\">\n",
       "      <th></th>\n",
       "      <th>type</th>\n",
       "      <th>id</th>\n",
       "      <th>subreddit.id</th>\n",
       "      <th>subreddit.name</th>\n",
       "      <th>subreddit.nsfw</th>\n",
       "      <th>created_utc</th>\n",
       "      <th>permalink</th>\n",
       "      <th>domain</th>\n",
       "      <th>url</th>\n",
       "      <th>selftext</th>\n",
       "      <th>title</th>\n",
       "      <th>score</th>\n",
       "      <th>_submission_id</th>\n",
       "    </tr>\n",
       "  </thead>\n",
       "  <tbody>\n",
       "    <tr>\n",
       "      <th>0</th>\n",
       "      <td>post</td>\n",
       "      <td>hp5581</td>\n",
       "      <td>2qh1i</td>\n",
       "      <td>askreddit</td>\n",
       "      <td>False</td>\n",
       "      <td>1594447809</td>\n",
       "      <td>https://old.reddit.com/r/AskReddit/comments/hp5581/what_is_something_that_you_will_never_forget/</td>\n",
       "      <td>self.askreddit</td>\n",
       "      <td>https://www.reddit.com/r/AskReddit/comments/hp5581/what_is_something_that_you_will_never_forget/</td>\n",
       "      <td>NaN</td>\n",
       "      <td>What is something that you will never forget ?</td>\n",
       "      <td>6</td>\n",
       "      <td>hp5581</td>\n",
       "    </tr>\n",
       "    <tr>\n",
       "      <th>1</th>\n",
       "      <td>post</td>\n",
       "      <td>jkh2hg</td>\n",
       "      <td>2qh1i</td>\n",
       "      <td>askreddit</td>\n",
       "      <td>False</td>\n",
       "      <td>1604000428</td>\n",
       "      <td>https://old.reddit.com/r/AskReddit/comments/jkh2hg/what_one_moment_made_someone_nose_dive_their/</td>\n",
       "      <td>self.askreddit</td>\n",
       "      <td>https://www.reddit.com/r/AskReddit/comments/jkh2hg/what_one_moment_made_someone_nose_dive_their/</td>\n",
       "      <td>NaN</td>\n",
       "      <td>What one moment made someone nose dive their entire career?</td>\n",
       "      <td>2</td>\n",
       "      <td>jkh2hg</td>\n",
       "    </tr>\n",
       "    <tr>\n",
       "      <th>2</th>\n",
       "      <td>post</td>\n",
       "      <td>jnk1pq</td>\n",
       "      <td>2qh1i</td>\n",
       "      <td>askreddit</td>\n",
       "      <td>False</td>\n",
       "      <td>1604441310</td>\n",
       "      <td>https://old.reddit.com/r/AskReddit/comments/jnk1pq/what_is_the_absolute_greatest_pinnacle_best_song/</td>\n",
       "      <td>self.askreddit</td>\n",
       "      <td>NaN</td>\n",
       "      <td>[deleted]</td>\n",
       "      <td>What is the absolute greatest, pinnacle, best song from a musical?</td>\n",
       "      <td>2</td>\n",
       "      <td>jnk1pq</td>\n",
       "    </tr>\n",
       "  </tbody>\n",
       "</table>\n",
       "</div>"
      ],
      "text/plain": [
       "   type      id subreddit.id subreddit.name  subreddit.nsfw  created_utc                                                                                             permalink          domain  \\\n",
       "0  post  hp5581        2qh1i      askreddit           False   1594447809      https://old.reddit.com/r/AskReddit/comments/hp5581/what_is_something_that_you_will_never_forget/  self.askreddit   \n",
       "1  post  jkh2hg        2qh1i      askreddit           False   1604000428      https://old.reddit.com/r/AskReddit/comments/jkh2hg/what_one_moment_made_someone_nose_dive_their/  self.askreddit   \n",
       "2  post  jnk1pq        2qh1i      askreddit           False   1604441310  https://old.reddit.com/r/AskReddit/comments/jnk1pq/what_is_the_absolute_greatest_pinnacle_best_song/  self.askreddit   \n",
       "\n",
       "                                                                                                url   selftext                                                               title  score  \\\n",
       "0  https://www.reddit.com/r/AskReddit/comments/hp5581/what_is_something_that_you_will_never_forget/        NaN                      What is something that you will never forget ?      6   \n",
       "1  https://www.reddit.com/r/AskReddit/comments/jkh2hg/what_one_moment_made_someone_nose_dive_their/        NaN         What one moment made someone nose dive their entire career?      2   \n",
       "2                                                                                               NaN  [deleted]  What is the absolute greatest, pinnacle, best song from a musical?      2   \n",
       "\n",
       "  _submission_id  \n",
       "0         hp5581  \n",
       "1         jkh2hg  \n",
       "2         jnk1pq  "
      ]
     },
     "execution_count": 9,
     "metadata": {},
     "output_type": "execute_result"
    }
   ],
   "source": [
    "df_questions.head(3)"
   ]
  },
  {
   "cell_type": "code",
   "execution_count": 13,
   "metadata": {},
   "outputs": [
    {
     "name": "stdout",
     "output_type": "stream",
     "text": [
      "Found 2 answers matching permalink prefix.\n"
     ]
    },
    {
     "data": {
      "text/html": [
       "<div>\n",
       "<style scoped>\n",
       "    .dataframe tbody tr th:only-of-type {\n",
       "        vertical-align: middle;\n",
       "    }\n",
       "\n",
       "    .dataframe tbody tr th {\n",
       "        vertical-align: top;\n",
       "    }\n",
       "\n",
       "    .dataframe thead th {\n",
       "        text-align: right;\n",
       "    }\n",
       "</style>\n",
       "<table border=\"1\" class=\"dataframe\">\n",
       "  <thead>\n",
       "    <tr style=\"text-align: right;\">\n",
       "      <th></th>\n",
       "      <th>type</th>\n",
       "      <th>id</th>\n",
       "      <th>subreddit.id</th>\n",
       "      <th>subreddit.name</th>\n",
       "      <th>subreddit.nsfw</th>\n",
       "      <th>created_utc</th>\n",
       "      <th>permalink</th>\n",
       "      <th>body</th>\n",
       "      <th>sentiment</th>\n",
       "      <th>score</th>\n",
       "      <th>_submission_id</th>\n",
       "    </tr>\n",
       "  </thead>\n",
       "  <tbody>\n",
       "    <tr>\n",
       "      <th>2115014</th>\n",
       "      <td>comment</td>\n",
       "      <td>gcvtk19</td>\n",
       "      <td>2qh1i</td>\n",
       "      <td>askreddit</td>\n",
       "      <td>False</td>\n",
       "      <td>1605827283</td>\n",
       "      <td>https://old.reddit.com/r/AskReddit/comments/hp5581/what_is_something_that_you_will_never_forget/gcvtk19/</td>\n",
       "      <td>Still haven't forgotten this post, even gave it an award this time for good measure.</td>\n",
       "      <td>0.7944</td>\n",
       "      <td>2</td>\n",
       "      <td>hp5581</td>\n",
       "    </tr>\n",
       "    <tr>\n",
       "      <th>8865103</th>\n",
       "      <td>comment</td>\n",
       "      <td>g8yuz6i</td>\n",
       "      <td>2qh1i</td>\n",
       "      <td>askreddit</td>\n",
       "      <td>False</td>\n",
       "      <td>1602818295</td>\n",
       "      <td>https://old.reddit.com/r/AskReddit/comments/hp5581/what_is_something_that_you_will_never_forget/g8yuz6i/</td>\n",
       "      <td>Still haven't forgotten this post</td>\n",
       "      <td>0.1695</td>\n",
       "      <td>1</td>\n",
       "      <td>hp5581</td>\n",
       "    </tr>\n",
       "  </tbody>\n",
       "</table>\n",
       "</div>"
      ],
      "text/plain": [
       "            type       id subreddit.id subreddit.name  subreddit.nsfw  created_utc                                                                                                 permalink  \\\n",
       "2115014  comment  gcvtk19        2qh1i      askreddit           False   1605827283  https://old.reddit.com/r/AskReddit/comments/hp5581/what_is_something_that_you_will_never_forget/gcvtk19/   \n",
       "8865103  comment  g8yuz6i        2qh1i      askreddit           False   1602818295  https://old.reddit.com/r/AskReddit/comments/hp5581/what_is_something_that_you_will_never_forget/g8yuz6i/   \n",
       "\n",
       "                                                                                         body  sentiment  score _submission_id  \n",
       "2115014  Still haven't forgotten this post, even gave it an award this time for good measure.     0.7944      2         hp5581  \n",
       "8865103                                                     Still haven't forgotten this post     0.1695      1         hp5581  "
      ]
     },
     "metadata": {},
     "output_type": "display_data"
    }
   ],
   "source": [
    "# Example: Find all answers whose permalink starts with a question permalink\n",
    "question_permalink = \"https://old.reddit.com/r/AskReddit/comments/hp5581/what_is_something_that_you_will_never_forget/\"\n",
    "\n",
    "# Filter answers whose permalink starts with the question permalink\n",
    "matching_answers = df_answers[df_answers['permalink'].str.startswith(question_permalink)]\n",
    "\n",
    "print(f\"Found {len(matching_answers)} answers matching permalink prefix.\")\n",
    "display(matching_answers.head(5))"
   ]
  },
  {
   "cell_type": "code",
   "execution_count": 6,
   "metadata": {},
   "outputs": [
    {
     "name": "stdout",
     "output_type": "stream",
     "text": [
      "Unique answers shape: (631064, 11)\n"
     ]
    },
    {
     "data": {
      "text/html": [
       "<div>\n",
       "<style scoped>\n",
       "    .dataframe tbody tr th:only-of-type {\n",
       "        vertical-align: middle;\n",
       "    }\n",
       "\n",
       "    .dataframe tbody tr th {\n",
       "        vertical-align: top;\n",
       "    }\n",
       "\n",
       "    .dataframe thead th {\n",
       "        text-align: right;\n",
       "    }\n",
       "</style>\n",
       "<table border=\"1\" class=\"dataframe\">\n",
       "  <thead>\n",
       "    <tr style=\"text-align: right;\">\n",
       "      <th></th>\n",
       "      <th>_submission_id</th>\n",
       "      <th>type</th>\n",
       "      <th>id</th>\n",
       "      <th>subreddit.id</th>\n",
       "      <th>subreddit.name</th>\n",
       "      <th>subreddit.nsfw</th>\n",
       "      <th>created_utc</th>\n",
       "      <th>permalink</th>\n",
       "      <th>body</th>\n",
       "      <th>sentiment</th>\n",
       "      <th>score</th>\n",
       "    </tr>\n",
       "  </thead>\n",
       "  <tbody>\n",
       "    <tr>\n",
       "      <th>0</th>\n",
       "      <td>1080hp</td>\n",
       "      <td>comment</td>\n",
       "      <td>g8ov8gv</td>\n",
       "      <td>2qh1i</td>\n",
       "      <td>askreddit</td>\n",
       "      <td>False</td>\n",
       "      <td>1602595777</td>\n",
       "      <td>https://old.reddit.com/r/AskReddit/comments/1080hp/reddit_what_hostname_can_i_give_my_computer_to/g8ov8gv/</td>\n",
       "      <td>**PLEASE READ THIS MESSAGE IN ITS ENTIRETY BEFORE TAKING ACTION.**\\n\\nYour post has been removed as it violated [Rule 2](http://www.reddit.com/r/AskReddit/wiki/index#wiki_-rule_2-). Please check that your post doesn't contain the following issues:\\n\\n* **Your post cannot have first person pronouns (I, me, my, etc)**\\n\\n* **Your post can't be specific to your situation or involve a story. Please make sure to depersonalize your question (such as removing personal pronouns) and remove any unnecessary context before posting it again.**\\n\\n**Please use one of these subreddits:**\\n\\n* Need advice? /r/advice or /r/self or /r/relationship_advice\\n\\n * Can't remember something? /r/TipOfMyTongue \\n\\n * Looking for a particular subreddit? /r/findareddit.\\nPlease note - once posted, the titles cannot be edited. If your title breaks the rules, please feel free to [make a new post](/r/askreddit/submit?selftext=true) that fits within the rules.\\n\\n\\n*I am a bot, and this action was performed automatically. Please [contact the moderators of this subreddit](/message/compose/?to=/r/AskReddit) if you have any questions or concerns.*</td>\n",
       "      <td>0.9516</td>\n",
       "      <td>1</td>\n",
       "    </tr>\n",
       "    <tr>\n",
       "      <th>1</th>\n",
       "      <td>119m6h</td>\n",
       "      <td>comment</td>\n",
       "      <td>gc8usue</td>\n",
       "      <td>2qh1i</td>\n",
       "      <td>askreddit</td>\n",
       "      <td>False</td>\n",
       "      <td>1605354296</td>\n",
       "      <td>https://old.reddit.com/r/AskReddit/comments/119m6h/has_anybody_else_heard_of_implementation/gc8usue/</td>\n",
       "      <td>**PLEASE READ THIS MESSAGE IN ITS ENTIRETY BEFORE TAKING ACTION.**\\n\\nHi there! Your question has been removed as it looks like you're asking a question that violates r/AskReddit's [Rule 3](http://www.reddit.com/r/AskReddit/wiki/index#wiki_-rule_3-) \\n\\nDAE (\"Does Anybody Else\") questions and questions that can be answered with \"yes\" or \"no\" are not allowed in r/AskReddit. Try rephrasing your question to be more open ended, or submitting to one of the following subreddits:\\n\\n- /r/polls\\n- /r/DoesAnybodyElse\\n- /r/DAE\\n- /r/WhatIsThisThing\\n\\n\\nOtherwise if these don't fit your needs, check out the [multireddits in our sidebar](http://www.reddit.com/r/AskReddit/about/sidebar) which cover almost every topic imaginable, thanks!\\n\\nIf you feel this was removed in error, please [contact the mods](&amp;lt;http://www.reddit.com/message/compose?to=%2Fr%2FAskReddit&amp;amp;subject=Help+Related+Post+Review+Request&amp;amp;message=My+post+was+removed+for+being+help+related,+please+review%3a%0d%0a%0d%0ahttp%3A%2F%2Fwww.reddit.com/r/AskReddit/comments/119m6h/has_anybody_else_heard_of_implementation/&amp;gt;). \\n\\n*I am a bot, and this action was performed automatically. Please [contact the moderators of this subreddit](/message/compose/?to=/r/AskReddit) if you have any questions or concerns.*</td>\n",
       "      <td>0.8209</td>\n",
       "      <td>1</td>\n",
       "    </tr>\n",
       "    <tr>\n",
       "      <th>2</th>\n",
       "      <td>11c75e</td>\n",
       "      <td>comment</td>\n",
       "      <td>gco84s8</td>\n",
       "      <td>2qh1i</td>\n",
       "      <td>askreddit</td>\n",
       "      <td>False</td>\n",
       "      <td>1605661808</td>\n",
       "      <td>https://old.reddit.com/r/AskReddit/comments/11c75e/why_is_he_hurting_me/gco84s8/</td>\n",
       "      <td>Hi there! Your post was removed because it uses the body text box. You can only use the title field to post a question in AskReddit.  Per [rule 1](/r/AskReddit/wiki/index#wiki_-rule_1-), use of the body text box is prohibited. You can resubmit your post [here](&amp;lt;https://www.reddit.com/r/askreddit/submit?selftext=true&amp;amp;title=Why is he hurting me?&amp;gt;) without the textbox.\\n\\n\\n*I am a bot, and this action was performed automatically. Please [contact the moderators of this subreddit](/message/compose/?to=/r/AskReddit) if you have any questions or concerns.*</td>\n",
       "      <td>-0.3031</td>\n",
       "      <td>1</td>\n",
       "    </tr>\n",
       "    <tr>\n",
       "      <th>3</th>\n",
       "      <td>12j5u5</td>\n",
       "      <td>comment</td>\n",
       "      <td>gc8usth</td>\n",
       "      <td>2qh1i</td>\n",
       "      <td>askreddit</td>\n",
       "      <td>False</td>\n",
       "      <td>1605354295</td>\n",
       "      <td>https://old.reddit.com/r/AskReddit/comments/12j5u5/where_can_i_find_german_news_videos_subtitled_in/gc8usth/</td>\n",
       "      <td>**PLEASE READ THIS MESSAGE IN ITS ENTIRETY BEFORE TAKING ACTION.**\\n\\nYour post has been removed as it violated [Rule 2](http://www.reddit.com/r/AskReddit/wiki/index#wiki_-rule_2-). Please check that your post doesn't contain the following issues:\\n\\n* **Your post cannot have first person pronouns (I, me, my, etc)**\\n\\n* **Your post can't be specific to your situation or involve a story. Please make sure to depersonalize your question (such as removing personal pronouns) and remove any unnecessary context before posting it again.**\\n\\n**Please use one of these subreddits:**\\n\\n* Need advice? /r/advice or /r/self or /r/relationship_advice\\n\\n * Can't remember something? /r/TipOfMyTongue \\n\\n * Looking for a particular subreddit? /r/findareddit.\\nPlease note - once posted, the titles cannot be edited. If your title breaks the rules, please feel free to [make a new post](/r/askreddit/submit?selftext=true) that fits within the rules.\\n\\n\\n*I am a bot, and this action was performed automatically. Please [contact the moderators of this subreddit](/message/compose/?to=/r/AskReddit) if you have any questions or concerns.*</td>\n",
       "      <td>0.9516</td>\n",
       "      <td>1</td>\n",
       "    </tr>\n",
       "    <tr>\n",
       "      <th>4</th>\n",
       "      <td>1ahb11</td>\n",
       "      <td>comment</td>\n",
       "      <td>ge6of62</td>\n",
       "      <td>2qh1i</td>\n",
       "      <td>askreddit</td>\n",
       "      <td>False</td>\n",
       "      <td>1606768861</td>\n",
       "      <td>https://old.reddit.com/r/AskReddit/comments/1ahb11/what_are_some_good_stories_of_kids_overcoming/ge6of62/</td>\n",
       "      <td>Hi there! Your post was removed because it uses the body text box. You can only use the title field to post a question in AskReddit.  Per [rule 1](/r/AskReddit/wiki/index#wiki_-rule_1-), use of the body text box is prohibited. You can resubmit your post [here](&amp;lt;https://www.reddit.com/r/askreddit/submit?selftext=true&amp;amp;title=What are some good stories of kids overcoming something supernatural/larger than life?&amp;gt;) without the textbox.\\n\\n\\n*I am a bot, and this action was performed automatically. Please [contact the moderators of this subreddit](/message/compose/?to=/r/AskReddit) if you have any questions or concerns.*</td>\n",
       "      <td>0.7212</td>\n",
       "      <td>1</td>\n",
       "    </tr>\n",
       "  </tbody>\n",
       "</table>\n",
       "</div>"
      ],
      "text/plain": [
       "  _submission_id     type       id subreddit.id subreddit.name  subreddit.nsfw  created_utc  \\\n",
       "0         1080hp  comment  g8ov8gv        2qh1i      askreddit           False   1602595777   \n",
       "1         119m6h  comment  gc8usue        2qh1i      askreddit           False   1605354296   \n",
       "2         11c75e  comment  gco84s8        2qh1i      askreddit           False   1605661808   \n",
       "3         12j5u5  comment  gc8usth        2qh1i      askreddit           False   1605354295   \n",
       "4         1ahb11  comment  ge6of62        2qh1i      askreddit           False   1606768861   \n",
       "\n",
       "                                                                                                      permalink  \\\n",
       "0    https://old.reddit.com/r/AskReddit/comments/1080hp/reddit_what_hostname_can_i_give_my_computer_to/g8ov8gv/   \n",
       "1          https://old.reddit.com/r/AskReddit/comments/119m6h/has_anybody_else_heard_of_implementation/gc8usue/   \n",
       "2                              https://old.reddit.com/r/AskReddit/comments/11c75e/why_is_he_hurting_me/gco84s8/   \n",
       "3  https://old.reddit.com/r/AskReddit/comments/12j5u5/where_can_i_find_german_news_videos_subtitled_in/gc8usth/   \n",
       "4     https://old.reddit.com/r/AskReddit/comments/1ahb11/what_are_some_good_stories_of_kids_overcoming/ge6of62/   \n",
       "\n",
       "                                                                                                                                                                                                                                                                                                                                                                                                                                                                                                                                                                                                                                                                                                                                                                                                                                                                                                                                                                                                                                                                                                                                                                                                                                                                                                                                    body  \\\n",
       "0                                                                                                                                                            **PLEASE READ THIS MESSAGE IN ITS ENTIRETY BEFORE TAKING ACTION.**\\n\\nYour post has been removed as it violated [Rule 2](http://www.reddit.com/r/AskReddit/wiki/index#wiki_-rule_2-). Please check that your post doesn't contain the following issues:\\n\\n* **Your post cannot have first person pronouns (I, me, my, etc)**\\n\\n* **Your post can't be specific to your situation or involve a story. Please make sure to depersonalize your question (such as removing personal pronouns) and remove any unnecessary context before posting it again.**\\n\\n**Please use one of these subreddits:**\\n\\n* Need advice? /r/advice or /r/self or /r/relationship_advice\\n\\n * Can't remember something? /r/TipOfMyTongue \\n\\n * Looking for a particular subreddit? /r/findareddit.\\nPlease note - once posted, the titles cannot be edited. If your title breaks the rules, please feel free to [make a new post](/r/askreddit/submit?selftext=true) that fits within the rules.\\n\\n\\n*I am a bot, and this action was performed automatically. Please [contact the moderators of this subreddit](/message/compose/?to=/r/AskReddit) if you have any questions or concerns.*   \n",
       "1  **PLEASE READ THIS MESSAGE IN ITS ENTIRETY BEFORE TAKING ACTION.**\\n\\nHi there! Your question has been removed as it looks like you're asking a question that violates r/AskReddit's [Rule 3](http://www.reddit.com/r/AskReddit/wiki/index#wiki_-rule_3-) \\n\\nDAE (\"Does Anybody Else\") questions and questions that can be answered with \"yes\" or \"no\" are not allowed in r/AskReddit. Try rephrasing your question to be more open ended, or submitting to one of the following subreddits:\\n\\n- /r/polls\\n- /r/DoesAnybodyElse\\n- /r/DAE\\n- /r/WhatIsThisThing\\n\\n\\nOtherwise if these don't fit your needs, check out the [multireddits in our sidebar](http://www.reddit.com/r/AskReddit/about/sidebar) which cover almost every topic imaginable, thanks!\\n\\nIf you feel this was removed in error, please [contact the mods](&lt;http://www.reddit.com/message/compose?to=%2Fr%2FAskReddit&amp;subject=Help+Related+Post+Review+Request&amp;message=My+post+was+removed+for+being+help+related,+please+review%3a%0d%0a%0d%0ahttp%3A%2F%2Fwww.reddit.com/r/AskReddit/comments/119m6h/has_anybody_else_heard_of_implementation/&gt;). \\n\\n*I am a bot, and this action was performed automatically. Please [contact the moderators of this subreddit](/message/compose/?to=/r/AskReddit) if you have any questions or concerns.*   \n",
       "2                                                                                                                                                                                                                                                                                                                                                                                                                                                                                                                                                                                                                                                                                                                                                 Hi there! Your post was removed because it uses the body text box. You can only use the title field to post a question in AskReddit.  Per [rule 1](/r/AskReddit/wiki/index#wiki_-rule_1-), use of the body text box is prohibited. You can resubmit your post [here](&lt;https://www.reddit.com/r/askreddit/submit?selftext=true&amp;title=Why is he hurting me?&gt;) without the textbox.\\n\\n\\n*I am a bot, and this action was performed automatically. Please [contact the moderators of this subreddit](/message/compose/?to=/r/AskReddit) if you have any questions or concerns.*   \n",
       "3                                                                                                                                                            **PLEASE READ THIS MESSAGE IN ITS ENTIRETY BEFORE TAKING ACTION.**\\n\\nYour post has been removed as it violated [Rule 2](http://www.reddit.com/r/AskReddit/wiki/index#wiki_-rule_2-). Please check that your post doesn't contain the following issues:\\n\\n* **Your post cannot have first person pronouns (I, me, my, etc)**\\n\\n* **Your post can't be specific to your situation or involve a story. Please make sure to depersonalize your question (such as removing personal pronouns) and remove any unnecessary context before posting it again.**\\n\\n**Please use one of these subreddits:**\\n\\n* Need advice? /r/advice or /r/self or /r/relationship_advice\\n\\n * Can't remember something? /r/TipOfMyTongue \\n\\n * Looking for a particular subreddit? /r/findareddit.\\nPlease note - once posted, the titles cannot be edited. If your title breaks the rules, please feel free to [make a new post](/r/askreddit/submit?selftext=true) that fits within the rules.\\n\\n\\n*I am a bot, and this action was performed automatically. Please [contact the moderators of this subreddit](/message/compose/?to=/r/AskReddit) if you have any questions or concerns.*   \n",
       "4                                                                                                                                                                                                                                                                                                                                                                                                                                                                                                                                                                                                                                                                                Hi there! Your post was removed because it uses the body text box. You can only use the title field to post a question in AskReddit.  Per [rule 1](/r/AskReddit/wiki/index#wiki_-rule_1-), use of the body text box is prohibited. You can resubmit your post [here](&lt;https://www.reddit.com/r/askreddit/submit?selftext=true&amp;title=What are some good stories of kids overcoming something supernatural/larger than life?&gt;) without the textbox.\\n\\n\\n*I am a bot, and this action was performed automatically. Please [contact the moderators of this subreddit](/message/compose/?to=/r/AskReddit) if you have any questions or concerns.*   \n",
       "\n",
       "   sentiment  score  \n",
       "0     0.9516      1  \n",
       "1     0.8209      1  \n",
       "2    -0.3031      1  \n",
       "3     0.9516      1  \n",
       "4     0.7212      1  "
      ]
     },
     "metadata": {},
     "output_type": "display_data"
    }
   ],
   "source": [
    "import numpy as np\n",
    "\n",
    "# Shuffle the DataFrame first for randomness, then group and take the first row per group\n",
    "shuffled = df_answers.sample(frac=1, random_state=42)\n",
    "unique_answers = shuffled.groupby('_submission_id', group_keys=False).first().reset_index()\n",
    "\n",
    "print(f\"Unique answers shape: {unique_answers.shape}\")\n",
    "display(unique_answers.head(5))"
   ]
  },
  {
   "cell_type": "code",
   "execution_count": 8,
   "metadata": {},
   "outputs": [],
   "source": [
    "unique_answers.rename(columns={'body': 'answer'}, inplace=True)\n",
    "unique_answers.rename(columns={'_submission_id': 'q_id'}, inplace=True)\n"
   ]
  },
  {
   "cell_type": "code",
   "execution_count": 10,
   "metadata": {},
   "outputs": [],
   "source": [
    "df_questions.rename(columns={'title': 'question'}, inplace=True)\n",
    "df_questions.rename(columns={'_submission_id': 'q_id'}, inplace=True)"
   ]
  },
  {
   "cell_type": "code",
   "execution_count": 12,
   "metadata": {},
   "outputs": [],
   "source": [
    "# Merge df_questions and unique_answers\n",
    "df_merged = pd.merge(df_questions, unique_answers, on='q_id', how='inner')"
   ]
  },
  {
   "cell_type": "code",
   "execution_count": 14,
   "metadata": {},
   "outputs": [],
   "source": [
    "## keep question and answer in df\n",
    "df_merged = df_merged[['q_id','question', 'answer']]"
   ]
  },
  {
   "cell_type": "code",
   "execution_count": 15,
   "metadata": {},
   "outputs": [
    {
     "data": {
      "text/html": [
       "<div>\n",
       "<style scoped>\n",
       "    .dataframe tbody tr th:only-of-type {\n",
       "        vertical-align: middle;\n",
       "    }\n",
       "\n",
       "    .dataframe tbody tr th {\n",
       "        vertical-align: top;\n",
       "    }\n",
       "\n",
       "    .dataframe thead th {\n",
       "        text-align: right;\n",
       "    }\n",
       "</style>\n",
       "<table border=\"1\" class=\"dataframe\">\n",
       "  <thead>\n",
       "    <tr style=\"text-align: right;\">\n",
       "      <th></th>\n",
       "      <th>q_id</th>\n",
       "      <th>question</th>\n",
       "      <th>answer</th>\n",
       "    </tr>\n",
       "  </thead>\n",
       "  <tbody>\n",
       "    <tr>\n",
       "      <th>0</th>\n",
       "      <td>hp5581</td>\n",
       "      <td>What is something that you will never forget ?</td>\n",
       "      <td>Still haven't forgotten this post, even gave it an award this time for good measure.</td>\n",
       "    </tr>\n",
       "    <tr>\n",
       "      <th>1</th>\n",
       "      <td>jkh2hg</td>\n",
       "      <td>What one moment made someone nose dive their entire career?</td>\n",
       "      <td>Keep in mind, at the time Netflix was mailing DVDs to people. That was their model in 2000. They didn't start streaming until 2007. Internet in those days for most wasn't even close to what it was in 07.</td>\n",
       "    </tr>\n",
       "    <tr>\n",
       "      <th>2</th>\n",
       "      <td>jnk1pq</td>\n",
       "      <td>What is the absolute greatest, pinnacle, best song from a musical?</td>\n",
       "      <td>The Pitiful Children from Be More Chill or Pick a Side from The Lightning Thief.</td>\n",
       "    </tr>\n",
       "  </tbody>\n",
       "</table>\n",
       "</div>"
      ],
      "text/plain": [
       "     q_id                                                            question  \\\n",
       "0  hp5581                      What is something that you will never forget ?   \n",
       "1  jkh2hg         What one moment made someone nose dive their entire career?   \n",
       "2  jnk1pq  What is the absolute greatest, pinnacle, best song from a musical?   \n",
       "\n",
       "                                                                                                                                                                                                        answer  \n",
       "0                                                                                                                         Still haven't forgotten this post, even gave it an award this time for good measure.  \n",
       "1  Keep in mind, at the time Netflix was mailing DVDs to people. That was their model in 2000. They didn't start streaming until 2007. Internet in those days for most wasn't even close to what it was in 07.  \n",
       "2                                                                                                                             The Pitiful Children from Be More Chill or Pick a Side from The Lightning Thief.  "
      ]
     },
     "execution_count": 15,
     "metadata": {},
     "output_type": "execute_result"
    }
   ],
   "source": [
    "df_merged.head(3)"
   ]
  },
  {
   "cell_type": "code",
   "execution_count": 16,
   "metadata": {},
   "outputs": [],
   "source": [
    "## Sample and get 1000 question answer pair\n",
    "# sample 1000 rows\n",
    "df_sample = df_merged.sample(n=1000, random_state=84)\n"
   ]
  },
  {
   "cell_type": "code",
   "execution_count": 17,
   "metadata": {},
   "outputs": [],
   "source": [
    "# Fine Tuning Format\n",
    "questions, answers = df_sample['question'].tolist(), df_sample['answer'].tolist()"
   ]
  },
  {
   "cell_type": "code",
   "execution_count": 18,
   "metadata": {},
   "outputs": [],
   "source": [
    "qa_openai_format = [{\"messages\": [{\"role\": \"system\", \"content\": \"Marv is a factual chatbot and reddit expert who likes to answer with bullets\"},{\"role\": \"user\", \"content\": question}, {\"role\": \"assistant\", \"content\": answer}]} for question, answer in zip(questions, answers)]"
   ]
  },
  {
   "cell_type": "code",
   "execution_count": 19,
   "metadata": {},
   "outputs": [
    {
     "data": {
      "text/plain": [
       "{'messages': [{'role': 'system',\n",
       "   'content': 'Marv is a factual chatbot and reddit expert who likes to answer with bullets'},\n",
       "  {'role': 'user', 'content': 'What are your thoughts on gatekeeping?'},\n",
       "  {'role': 'assistant',\n",
       "   'content': \"It really depends on the kind of gatekeeping.\\n\\nGatekeeping a child from going into a bar? That's good gatekeeping.\\n\\nGatekeeping a woman from working in engineering, or a man from being emotional?\\nThat's bad gatekeeping.\"}]}"
      ]
     },
     "execution_count": 19,
     "metadata": {},
     "output_type": "execute_result"
    }
   ],
   "source": [
    "qa_openai_format[5]"
   ]
  },
  {
   "cell_type": "code",
   "execution_count": 20,
   "metadata": {},
   "outputs": [],
   "source": [
    "with open('training_data.jsonl', 'w') as f:\n",
    "    for entry in qa_openai_format:\n",
    "        f.write(json.dumps(entry))\n",
    "        f.write('\\n')\n",
    "        "
   ]
  },
  {
   "cell_type": "code",
   "execution_count": 21,
   "metadata": {},
   "outputs": [
    {
     "name": "stdout",
     "output_type": "stream",
     "text": [
      "Loaded 1000 examples from training_data.jsonl\n",
      "No errors found\n"
     ]
    }
   ],
   "source": [
    "# Format error checks\n",
    "from collections import defaultdict\n",
    "data_path = \"training_data.jsonl\"\n",
    "\n",
    "with open(data_path, 'r',encoding='utf-8') as f:\n",
    "    dataset = [json.loads(line) for line in f]\n",
    "\n",
    "print(f\"Loaded {len(dataset)} examples from {data_path}\")\n",
    "# Format error checks\n",
    "format_errors = defaultdict(int)\n",
    "\n",
    "for ex in dataset:\n",
    "    if not isinstance(ex, dict):\n",
    "        format_errors[\"data_type\"] += 1\n",
    "        continue\n",
    "        \n",
    "    messages = ex.get(\"messages\", None)\n",
    "    if not messages:\n",
    "        format_errors[\"missing_messages_list\"] += 1\n",
    "        continue\n",
    "        \n",
    "    for message in messages:\n",
    "        if \"role\" not in message or \"content\" not in message:\n",
    "            format_errors[\"message_missing_key\"] += 1\n",
    "        \n",
    "        if any(k not in (\"role\", \"content\", \"name\", \"function_call\", \"weight\") for k in message):\n",
    "            format_errors[\"message_unrecognized_key\"] += 1\n",
    "        \n",
    "        if message.get(\"role\", None) not in (\"system\", \"user\", \"assistant\", \"function\"):\n",
    "            format_errors[\"unrecognized_role\"] += 1\n",
    "            \n",
    "        content = message.get(\"content\", None)\n",
    "        function_call = message.get(\"function_call\", None)\n",
    "        \n",
    "        if (not content and not function_call) or not isinstance(content, str):\n",
    "            format_errors[\"missing_content\"] += 1\n",
    "    \n",
    "    if not any(message.get(\"role\", None) == \"assistant\" for message in messages):\n",
    "        format_errors[\"example_missing_assistant_message\"] += 1\n",
    "\n",
    "if format_errors:\n",
    "    print(\"Found errors:\")\n",
    "    for k, v in format_errors.items():\n",
    "        print(f\"{k}: {v}\")\n",
    "else:\n",
    "    print(\"No errors found\")"
   ]
  },
  {
   "cell_type": "code",
   "execution_count": null,
   "metadata": {},
   "outputs": [],
   "source": []
  },
  {
   "cell_type": "code",
   "execution_count": 11,
   "metadata": {},
   "outputs": [
    {
     "data": {
      "text/html": [
       "<div>\n",
       "<style scoped>\n",
       "    .dataframe tbody tr th:only-of-type {\n",
       "        vertical-align: middle;\n",
       "    }\n",
       "\n",
       "    .dataframe tbody tr th {\n",
       "        vertical-align: top;\n",
       "    }\n",
       "\n",
       "    .dataframe thead th {\n",
       "        text-align: right;\n",
       "    }\n",
       "</style>\n",
       "<table border=\"1\" class=\"dataframe\">\n",
       "  <thead>\n",
       "    <tr style=\"text-align: right;\">\n",
       "      <th></th>\n",
       "      <th>type</th>\n",
       "      <th>id</th>\n",
       "      <th>subreddit.id</th>\n",
       "      <th>subreddit.name</th>\n",
       "      <th>subreddit.nsfw</th>\n",
       "      <th>created_utc</th>\n",
       "      <th>permalink</th>\n",
       "      <th>domain</th>\n",
       "      <th>url</th>\n",
       "      <th>selftext</th>\n",
       "      <th>question</th>\n",
       "      <th>score</th>\n",
       "      <th>q_id</th>\n",
       "    </tr>\n",
       "  </thead>\n",
       "  <tbody>\n",
       "    <tr>\n",
       "      <th>0</th>\n",
       "      <td>post</td>\n",
       "      <td>hp5581</td>\n",
       "      <td>2qh1i</td>\n",
       "      <td>askreddit</td>\n",
       "      <td>False</td>\n",
       "      <td>1594447809</td>\n",
       "      <td>https://old.reddit.com/r/AskReddit/comments/hp5581/what_is_something_that_you_will_never_forget/</td>\n",
       "      <td>self.askreddit</td>\n",
       "      <td>https://www.reddit.com/r/AskReddit/comments/hp5581/what_is_something_that_you_will_never_forget/</td>\n",
       "      <td>NaN</td>\n",
       "      <td>What is something that you will never forget ?</td>\n",
       "      <td>6</td>\n",
       "      <td>hp5581</td>\n",
       "    </tr>\n",
       "    <tr>\n",
       "      <th>1</th>\n",
       "      <td>post</td>\n",
       "      <td>jkh2hg</td>\n",
       "      <td>2qh1i</td>\n",
       "      <td>askreddit</td>\n",
       "      <td>False</td>\n",
       "      <td>1604000428</td>\n",
       "      <td>https://old.reddit.com/r/AskReddit/comments/jkh2hg/what_one_moment_made_someone_nose_dive_their/</td>\n",
       "      <td>self.askreddit</td>\n",
       "      <td>https://www.reddit.com/r/AskReddit/comments/jkh2hg/what_one_moment_made_someone_nose_dive_their/</td>\n",
       "      <td>NaN</td>\n",
       "      <td>What one moment made someone nose dive their entire career?</td>\n",
       "      <td>2</td>\n",
       "      <td>jkh2hg</td>\n",
       "    </tr>\n",
       "    <tr>\n",
       "      <th>2</th>\n",
       "      <td>post</td>\n",
       "      <td>jnk1pq</td>\n",
       "      <td>2qh1i</td>\n",
       "      <td>askreddit</td>\n",
       "      <td>False</td>\n",
       "      <td>1604441310</td>\n",
       "      <td>https://old.reddit.com/r/AskReddit/comments/jnk1pq/what_is_the_absolute_greatest_pinnacle_best_song/</td>\n",
       "      <td>self.askreddit</td>\n",
       "      <td>NaN</td>\n",
       "      <td>[deleted]</td>\n",
       "      <td>What is the absolute greatest, pinnacle, best song from a musical?</td>\n",
       "      <td>2</td>\n",
       "      <td>jnk1pq</td>\n",
       "    </tr>\n",
       "  </tbody>\n",
       "</table>\n",
       "</div>"
      ],
      "text/plain": [
       "   type      id subreddit.id subreddit.name  subreddit.nsfw  created_utc                                                                                             permalink          domain  \\\n",
       "0  post  hp5581        2qh1i      askreddit           False   1594447809      https://old.reddit.com/r/AskReddit/comments/hp5581/what_is_something_that_you_will_never_forget/  self.askreddit   \n",
       "1  post  jkh2hg        2qh1i      askreddit           False   1604000428      https://old.reddit.com/r/AskReddit/comments/jkh2hg/what_one_moment_made_someone_nose_dive_their/  self.askreddit   \n",
       "2  post  jnk1pq        2qh1i      askreddit           False   1604441310  https://old.reddit.com/r/AskReddit/comments/jnk1pq/what_is_the_absolute_greatest_pinnacle_best_song/  self.askreddit   \n",
       "\n",
       "                                                                                                url   selftext                                                            question  score    q_id  \n",
       "0  https://www.reddit.com/r/AskReddit/comments/hp5581/what_is_something_that_you_will_never_forget/        NaN                      What is something that you will never forget ?      6  hp5581  \n",
       "1  https://www.reddit.com/r/AskReddit/comments/jkh2hg/what_one_moment_made_someone_nose_dive_their/        NaN         What one moment made someone nose dive their entire career?      2  jkh2hg  \n",
       "2                                                                                               NaN  [deleted]  What is the absolute greatest, pinnacle, best song from a musical?      2  jnk1pq  "
      ]
     },
     "execution_count": 11,
     "metadata": {},
     "output_type": "execute_result"
    }
   ],
   "source": [
    "df_questions.head(3)"
   ]
  },
  {
   "cell_type": "code",
   "execution_count": null,
   "metadata": {},
   "outputs": [],
   "source": []
  },
  {
   "cell_type": "code",
   "execution_count": null,
   "metadata": {},
   "outputs": [],
   "source": []
  },
  {
   "cell_type": "code",
   "execution_count": null,
   "metadata": {},
   "outputs": [],
   "source": []
  },
  {
   "cell_type": "code",
   "execution_count": null,
   "metadata": {},
   "outputs": [],
   "source": []
  },
  {
   "cell_type": "code",
   "execution_count": 22,
   "metadata": {},
   "outputs": [
    {
     "data": {
      "text/plain": [
       "631064"
      ]
     },
     "execution_count": 22,
     "metadata": {},
     "output_type": "execute_result"
    }
   ],
   "source": [
    "df_answers._submission_id.nunique()"
   ]
  },
  {
   "cell_type": "code",
   "execution_count": 20,
   "metadata": {},
   "outputs": [
    {
     "data": {
      "text/plain": [
       "(631063, 13)"
      ]
     },
     "execution_count": 20,
     "metadata": {},
     "output_type": "execute_result"
    }
   ],
   "source": [
    "df_questions.shape"
   ]
  },
  {
   "cell_type": "code",
   "execution_count": 21,
   "metadata": {},
   "outputs": [
    {
     "data": {
      "text/plain": [
       "631063"
      ]
     },
     "execution_count": 21,
     "metadata": {},
     "output_type": "execute_result"
    }
   ],
   "source": [
    "df_questions.id.nunique()"
   ]
  },
  {
   "cell_type": "code",
   "execution_count": 23,
   "metadata": {},
   "outputs": [
    {
     "data": {
      "text/plain": [
       "631063"
      ]
     },
     "execution_count": 23,
     "metadata": {},
     "output_type": "execute_result"
    }
   ],
   "source": [
    "df_questions._submission_id.nunique()"
   ]
  },
  {
   "cell_type": "code",
   "execution_count": 16,
   "metadata": {},
   "outputs": [
    {
     "data": {
      "text/html": [
       "<div>\n",
       "<style scoped>\n",
       "    .dataframe tbody tr th:only-of-type {\n",
       "        vertical-align: middle;\n",
       "    }\n",
       "\n",
       "    .dataframe tbody tr th {\n",
       "        vertical-align: top;\n",
       "    }\n",
       "\n",
       "    .dataframe thead th {\n",
       "        text-align: right;\n",
       "    }\n",
       "</style>\n",
       "<table border=\"1\" class=\"dataframe\">\n",
       "  <thead>\n",
       "    <tr style=\"text-align: right;\">\n",
       "      <th></th>\n",
       "      <th>type</th>\n",
       "      <th>id</th>\n",
       "      <th>subreddit.id</th>\n",
       "      <th>subreddit.name</th>\n",
       "      <th>subreddit.nsfw</th>\n",
       "      <th>created_utc</th>\n",
       "      <th>permalink</th>\n",
       "      <th>domain</th>\n",
       "      <th>url</th>\n",
       "      <th>selftext</th>\n",
       "      <th>title</th>\n",
       "      <th>score</th>\n",
       "      <th>_submission_id</th>\n",
       "    </tr>\n",
       "  </thead>\n",
       "  <tbody>\n",
       "    <tr>\n",
       "      <th>0</th>\n",
       "      <td>post</td>\n",
       "      <td>hp5581</td>\n",
       "      <td>2qh1i</td>\n",
       "      <td>askreddit</td>\n",
       "      <td>False</td>\n",
       "      <td>1594447809</td>\n",
       "      <td>https://old.reddit.com/r/AskReddit/comments/hp5581/what_is_something_that_you_will_never_forget/</td>\n",
       "      <td>self.askreddit</td>\n",
       "      <td>https://www.reddit.com/r/AskReddit/comments/hp5581/what_is_something_that_you_will_never_forget/</td>\n",
       "      <td>NaN</td>\n",
       "      <td>What is something that you will never forget ?</td>\n",
       "      <td>6</td>\n",
       "      <td>hp5581</td>\n",
       "    </tr>\n",
       "  </tbody>\n",
       "</table>\n",
       "</div>"
      ],
      "text/plain": [
       "   type      id subreddit.id subreddit.name  subreddit.nsfw  created_utc                                                                                         permalink          domain  \\\n",
       "0  post  hp5581        2qh1i      askreddit           False   1594447809  https://old.reddit.com/r/AskReddit/comments/hp5581/what_is_something_that_you_will_never_forget/  self.askreddit   \n",
       "\n",
       "                                                                                                url selftext                                           title  score _submission_id  \n",
       "0  https://www.reddit.com/r/AskReddit/comments/hp5581/what_is_something_that_you_will_never_forget/      NaN  What is something that you will never forget ?      6         hp5581  "
      ]
     },
     "execution_count": 16,
     "metadata": {},
     "output_type": "execute_result"
    }
   ],
   "source": [
    "df_questions[df_questions['permalink'].str.startswith(question_permalink)]"
   ]
  },
  {
   "cell_type": "code",
   "execution_count": 17,
   "metadata": {},
   "outputs": [
    {
     "name": "stdout",
     "output_type": "stream",
     "text": [
      "Found 4 answers matching permalink prefix.\n"
     ]
    },
    {
     "data": {
      "text/html": [
       "<div>\n",
       "<style scoped>\n",
       "    .dataframe tbody tr th:only-of-type {\n",
       "        vertical-align: middle;\n",
       "    }\n",
       "\n",
       "    .dataframe tbody tr th {\n",
       "        vertical-align: top;\n",
       "    }\n",
       "\n",
       "    .dataframe thead th {\n",
       "        text-align: right;\n",
       "    }\n",
       "</style>\n",
       "<table border=\"1\" class=\"dataframe\">\n",
       "  <thead>\n",
       "    <tr style=\"text-align: right;\">\n",
       "      <th></th>\n",
       "      <th>type</th>\n",
       "      <th>id</th>\n",
       "      <th>subreddit.id</th>\n",
       "      <th>subreddit.name</th>\n",
       "      <th>subreddit.nsfw</th>\n",
       "      <th>created_utc</th>\n",
       "      <th>permalink</th>\n",
       "      <th>body</th>\n",
       "      <th>sentiment</th>\n",
       "      <th>score</th>\n",
       "      <th>_submission_id</th>\n",
       "    </tr>\n",
       "  </thead>\n",
       "  <tbody>\n",
       "    <tr>\n",
       "      <th>6275681</th>\n",
       "      <td>comment</td>\n",
       "      <td>gaizi47</td>\n",
       "      <td>2qh1i</td>\n",
       "      <td>askreddit</td>\n",
       "      <td>False</td>\n",
       "      <td>1604001226</td>\n",
       "      <td>https://old.reddit.com/r/AskReddit/comments/jkh2hg/what_one_moment_made_someone_nose_dive_their/gaizi47/</td>\n",
       "      <td>When the CEO of Ratners (British cheap jewelry company that was a big name in the 1980s and 90s) made a speech where he jokingly denigrated a lot of his company’s products. Highlights include: “[our products are so cheap] because they’re total crap” and \"[a set of our earrings are] cheaper than an M&amp;amp;S prawn sandwich but probably wouldn't last as long”. After the speech, the valuation of Ratners plummeted by £500 million, and the company nearly collapsed. Turns out people don’t like their jewelry reminding them of that prawn sandwich they just ate...</td>\n",
       "      <td>0.1531</td>\n",
       "      <td>1</td>\n",
       "      <td>jkh2hg</td>\n",
       "    </tr>\n",
       "    <tr>\n",
       "      <th>6276309</th>\n",
       "      <td>comment</td>\n",
       "      <td>gaiz255</td>\n",
       "      <td>2qh1i</td>\n",
       "      <td>askreddit</td>\n",
       "      <td>False</td>\n",
       "      <td>1604001021</td>\n",
       "      <td>https://old.reddit.com/r/AskReddit/comments/jkh2hg/what_one_moment_made_someone_nose_dive_their/gaiz255/</td>\n",
       "      <td>Keep in mind, at the time Netflix was mailing DVDs to people. That was their model in 2000. They didn't start streaming until 2007. Internet in those days for most wasn't even close to what it was in 07.</td>\n",
       "      <td>0.0000</td>\n",
       "      <td>2</td>\n",
       "      <td>jkh2hg</td>\n",
       "    </tr>\n",
       "    <tr>\n",
       "      <th>6277461</th>\n",
       "      <td>comment</td>\n",
       "      <td>gaiy585</td>\n",
       "      <td>2qh1i</td>\n",
       "      <td>askreddit</td>\n",
       "      <td>False</td>\n",
       "      <td>1604000595</td>\n",
       "      <td>https://old.reddit.com/r/AskReddit/comments/jkh2hg/what_one_moment_made_someone_nose_dive_their/gaiy585/</td>\n",
       "      <td>When the CEO who ran blockbuster refused to do a deal with Netflix to stream their rentals over the internet. Then proceeded to completely deny that online streaming would be a thing of the future and fought against technology at every turn only to eventually try to start their own streaming service when it was already too late...\\n\\nI bet absolutely no one wants to hire that dude.</td>\n",
       "      <td>-0.5840</td>\n",
       "      <td>3</td>\n",
       "      <td>jkh2hg</td>\n",
       "    </tr>\n",
       "    <tr>\n",
       "      <th>6277616</th>\n",
       "      <td>comment</td>\n",
       "      <td>gaiy0k9</td>\n",
       "      <td>2qh1i</td>\n",
       "      <td>askreddit</td>\n",
       "      <td>False</td>\n",
       "      <td>1604000532</td>\n",
       "      <td>https://old.reddit.com/r/AskReddit/comments/jkh2hg/what_one_moment_made_someone_nose_dive_their/gaiy0k9/</td>\n",
       "      <td>Mini Ladd getting exposed.</td>\n",
       "      <td>-0.0772</td>\n",
       "      <td>1</td>\n",
       "      <td>jkh2hg</td>\n",
       "    </tr>\n",
       "  </tbody>\n",
       "</table>\n",
       "</div>"
      ],
      "text/plain": [
       "            type       id subreddit.id subreddit.name  subreddit.nsfw  created_utc                                                                                                 permalink  \\\n",
       "6275681  comment  gaizi47        2qh1i      askreddit           False   1604001226  https://old.reddit.com/r/AskReddit/comments/jkh2hg/what_one_moment_made_someone_nose_dive_their/gaizi47/   \n",
       "6276309  comment  gaiz255        2qh1i      askreddit           False   1604001021  https://old.reddit.com/r/AskReddit/comments/jkh2hg/what_one_moment_made_someone_nose_dive_their/gaiz255/   \n",
       "6277461  comment  gaiy585        2qh1i      askreddit           False   1604000595  https://old.reddit.com/r/AskReddit/comments/jkh2hg/what_one_moment_made_someone_nose_dive_their/gaiy585/   \n",
       "6277616  comment  gaiy0k9        2qh1i      askreddit           False   1604000532  https://old.reddit.com/r/AskReddit/comments/jkh2hg/what_one_moment_made_someone_nose_dive_their/gaiy0k9/   \n",
       "\n",
       "                                                                                                                                                                                                                                                                                                                                                                                                                                                                                                                                                                                    body  \\\n",
       "6275681  When the CEO of Ratners (British cheap jewelry company that was a big name in the 1980s and 90s) made a speech where he jokingly denigrated a lot of his company’s products. Highlights include: “[our products are so cheap] because they’re total crap” and \"[a set of our earrings are] cheaper than an M&amp;S prawn sandwich but probably wouldn't last as long”. After the speech, the valuation of Ratners plummeted by £500 million, and the company nearly collapsed. Turns out people don’t like their jewelry reminding them of that prawn sandwich they just ate...   \n",
       "6276309                                                                                                                                                                                                                                                                                                                                                                      Keep in mind, at the time Netflix was mailing DVDs to people. That was their model in 2000. They didn't start streaming until 2007. Internet in those days for most wasn't even close to what it was in 07.   \n",
       "6277461                                                                                                                                                                                 When the CEO who ran blockbuster refused to do a deal with Netflix to stream their rentals over the internet. Then proceeded to completely deny that online streaming would be a thing of the future and fought against technology at every turn only to eventually try to start their own streaming service when it was already too late...\\n\\nI bet absolutely no one wants to hire that dude.   \n",
       "6277616                                                                                                                                                                                                                                                                                                                                                                                                                                                                                                                                                       Mini Ladd getting exposed.   \n",
       "\n",
       "         sentiment  score _submission_id  \n",
       "6275681     0.1531      1         jkh2hg  \n",
       "6276309     0.0000      2         jkh2hg  \n",
       "6277461    -0.5840      3         jkh2hg  \n",
       "6277616    -0.0772      1         jkh2hg  "
      ]
     },
     "metadata": {},
     "output_type": "display_data"
    }
   ],
   "source": [
    "# Example: Find all answers whose permalink starts with a question permalink\n",
    "question_permalink = \"https://old.reddit.com/r/AskReddit/comments/jkh2hg/what_one_moment_made_someone_nose_dive_their/\"\n",
    "\n",
    "# Filter answers whose permalink starts with the question permalink\n",
    "matching_answers = df_answers[df_answers['permalink'].str.startswith(question_permalink)]\n",
    "\n",
    "print(f\"Found {len(matching_answers)} answers matching permalink prefix.\")\n",
    "display(matching_answers.head(5))"
   ]
  },
  {
   "cell_type": "code",
   "execution_count": 18,
   "metadata": {},
   "outputs": [
    {
     "data": {
      "text/html": [
       "<div>\n",
       "<style scoped>\n",
       "    .dataframe tbody tr th:only-of-type {\n",
       "        vertical-align: middle;\n",
       "    }\n",
       "\n",
       "    .dataframe tbody tr th {\n",
       "        vertical-align: top;\n",
       "    }\n",
       "\n",
       "    .dataframe thead th {\n",
       "        text-align: right;\n",
       "    }\n",
       "</style>\n",
       "<table border=\"1\" class=\"dataframe\">\n",
       "  <thead>\n",
       "    <tr style=\"text-align: right;\">\n",
       "      <th></th>\n",
       "      <th>type</th>\n",
       "      <th>id</th>\n",
       "      <th>subreddit.id</th>\n",
       "      <th>subreddit.name</th>\n",
       "      <th>subreddit.nsfw</th>\n",
       "      <th>created_utc</th>\n",
       "      <th>permalink</th>\n",
       "      <th>domain</th>\n",
       "      <th>url</th>\n",
       "      <th>selftext</th>\n",
       "      <th>title</th>\n",
       "      <th>score</th>\n",
       "      <th>_submission_id</th>\n",
       "    </tr>\n",
       "  </thead>\n",
       "  <tbody>\n",
       "    <tr>\n",
       "      <th>1</th>\n",
       "      <td>post</td>\n",
       "      <td>jkh2hg</td>\n",
       "      <td>2qh1i</td>\n",
       "      <td>askreddit</td>\n",
       "      <td>False</td>\n",
       "      <td>1604000428</td>\n",
       "      <td>https://old.reddit.com/r/AskReddit/comments/jkh2hg/what_one_moment_made_someone_nose_dive_their/</td>\n",
       "      <td>self.askreddit</td>\n",
       "      <td>https://www.reddit.com/r/AskReddit/comments/jkh2hg/what_one_moment_made_someone_nose_dive_their/</td>\n",
       "      <td>NaN</td>\n",
       "      <td>What one moment made someone nose dive their entire career?</td>\n",
       "      <td>2</td>\n",
       "      <td>jkh2hg</td>\n",
       "    </tr>\n",
       "  </tbody>\n",
       "</table>\n",
       "</div>"
      ],
      "text/plain": [
       "   type      id subreddit.id subreddit.name  subreddit.nsfw  created_utc                                                                                         permalink          domain  \\\n",
       "1  post  jkh2hg        2qh1i      askreddit           False   1604000428  https://old.reddit.com/r/AskReddit/comments/jkh2hg/what_one_moment_made_someone_nose_dive_their/  self.askreddit   \n",
       "\n",
       "                                                                                                url selftext                                                        title  score _submission_id  \n",
       "1  https://www.reddit.com/r/AskReddit/comments/jkh2hg/what_one_moment_made_someone_nose_dive_their/      NaN  What one moment made someone nose dive their entire career?      2         jkh2hg  "
      ]
     },
     "execution_count": 18,
     "metadata": {},
     "output_type": "execute_result"
    }
   ],
   "source": [
    "df_questions[df_questions['permalink'].str.startswith(question_permalink)]"
   ]
  },
  {
   "cell_type": "code",
   "execution_count": null,
   "metadata": {},
   "outputs": [],
   "source": []
  },
  {
   "cell_type": "code",
   "execution_count": null,
   "metadata": {},
   "outputs": [],
   "source": []
  },
  {
   "cell_type": "code",
   "execution_count": null,
   "metadata": {},
   "outputs": [],
   "source": []
  },
  {
   "cell_type": "code",
   "execution_count": null,
   "metadata": {},
   "outputs": [],
   "source": []
  },
  {
   "cell_type": "code",
   "execution_count": 10,
   "metadata": {},
   "outputs": [],
   "source": [
    "# Helper to extract submission id from a single permalink string\n",
    "def extract_submission_id(permalink: str) -> Optional[str]:\n",
    "    if not isinstance(permalink, str):\n",
    "        return None\n",
    "    m = re.search(r'/comments/([a-z0-9]+)/', permalink)\n",
    "    return m.group(1) if m else None\n",
    "\n",
    "\n",
    "def get_answers_for_question(question_permalink: str, include_descendants: bool = True, sort_by: Optional[str] = 'score'):\n",
    "    \"\"\"Return a DataFrame of answers for a question permalink.\n",
    "\n",
    "    Parameters\n",
    "    ----------\n",
    "    question_permalink : str\n",
    "        The permalink of the question/submission (no trailing comment id).\n",
    "    include_descendants : bool, default True\n",
    "        If True, returns ALL comments in the thread (any depth).\n",
    "        If False, returns only TOP-LEVEL answers (parent is the submission).\n",
    "    sort_by : str | None\n",
    "        Column to sort by descending (e.g., 'score', 'ups'). If missing or None, no sorting.\n",
    "    \"\"\"\n",
    "    sub_id = extract_submission_id(question_permalink)\n",
    "    if not sub_id:\n",
    "        raise ValueError(f\"Could not extract submission id from permalink: {question_permalink}\")\n",
    "\n",
    "    # All comments tied to this submission id\n",
    "    thread_answers = df_answers[df_answers['_submission_id'] == sub_id].copy()\n",
    "\n",
    "    if not include_descendants:\n",
    "        # Keep only comments whose parent is the submission (parent_id starts with t3_<sub>)\n",
    "        thread_answers = thread_answers[thread_answers['parent_id'].astype(str) == f't3_{sub_id}']\n",
    "\n",
    "    if sort_by and sort_by in thread_answers.columns:\n",
    "        thread_answers = thread_answers.sort_values(sort_by, ascending=False)\n",
    "\n",
    "    return thread_answers\n",
    "\n"
   ]
  },
  {
   "cell_type": "code",
   "execution_count": 11,
   "metadata": {},
   "outputs": [
    {
     "ename": "KeyError",
     "evalue": "'parent_id'",
     "output_type": "error",
     "traceback": [
      "\u001b[31m---------------------------------------------------------------------------\u001b[39m",
      "\u001b[31mKeyError\u001b[39m                                  Traceback (most recent call last)",
      "\u001b[36mFile \u001b[39m\u001b[32m~/.local/lib/python3.12/site-packages/pandas/core/indexes/base.py:3812\u001b[39m, in \u001b[36mIndex.get_loc\u001b[39m\u001b[34m(self, key)\u001b[39m\n\u001b[32m   3811\u001b[39m \u001b[38;5;28;01mtry\u001b[39;00m:\n\u001b[32m-> \u001b[39m\u001b[32m3812\u001b[39m     \u001b[38;5;28;01mreturn\u001b[39;00m \u001b[38;5;28;43mself\u001b[39;49m\u001b[43m.\u001b[49m\u001b[43m_engine\u001b[49m\u001b[43m.\u001b[49m\u001b[43mget_loc\u001b[49m\u001b[43m(\u001b[49m\u001b[43mcasted_key\u001b[49m\u001b[43m)\u001b[49m\n\u001b[32m   3813\u001b[39m \u001b[38;5;28;01mexcept\u001b[39;00m \u001b[38;5;167;01mKeyError\u001b[39;00m \u001b[38;5;28;01mas\u001b[39;00m err:\n",
      "\u001b[36mFile \u001b[39m\u001b[32mpandas/_libs/index.pyx:167\u001b[39m, in \u001b[36mpandas._libs.index.IndexEngine.get_loc\u001b[39m\u001b[34m()\u001b[39m\n",
      "\u001b[36mFile \u001b[39m\u001b[32mpandas/_libs/index.pyx:196\u001b[39m, in \u001b[36mpandas._libs.index.IndexEngine.get_loc\u001b[39m\u001b[34m()\u001b[39m\n",
      "\u001b[36mFile \u001b[39m\u001b[32mpandas/_libs/hashtable_class_helper.pxi:7088\u001b[39m, in \u001b[36mpandas._libs.hashtable.PyObjectHashTable.get_item\u001b[39m\u001b[34m()\u001b[39m\n",
      "\u001b[36mFile \u001b[39m\u001b[32mpandas/_libs/hashtable_class_helper.pxi:7096\u001b[39m, in \u001b[36mpandas._libs.hashtable.PyObjectHashTable.get_item\u001b[39m\u001b[34m()\u001b[39m\n",
      "\u001b[31mKeyError\u001b[39m: 'parent_id'",
      "\nThe above exception was the direct cause of the following exception:\n",
      "\u001b[31mKeyError\u001b[39m                                  Traceback (most recent call last)",
      "\u001b[36mCell\u001b[39m\u001b[36m \u001b[39m\u001b[32mIn[11]\u001b[39m\u001b[32m, line 4\u001b[39m\n\u001b[32m      2\u001b[39m example_question = \u001b[33m\"\u001b[39m\u001b[33mhttps://old.reddit.com/r/AskReddit/comments/k3w3qz/someone_offers_you_100hr_to_watch_any_movie_on/\u001b[39m\u001b[33m\"\u001b[39m\n\u001b[32m      3\u001b[39m answers_all = get_answers_for_question(example_question, include_descendants=\u001b[38;5;28;01mTrue\u001b[39;00m)\n\u001b[32m----> \u001b[39m\u001b[32m4\u001b[39m answers_top_level = \u001b[43mget_answers_for_question\u001b[49m\u001b[43m(\u001b[49m\u001b[43mexample_question\u001b[49m\u001b[43m,\u001b[49m\u001b[43m \u001b[49m\u001b[43minclude_descendants\u001b[49m\u001b[43m=\u001b[49m\u001b[38;5;28;43;01mFalse\u001b[39;49;00m\u001b[43m)\u001b[49m\n\u001b[32m      6\u001b[39m \u001b[38;5;28mprint\u001b[39m({\n\u001b[32m      7\u001b[39m     \u001b[33m'\u001b[39m\u001b[33mall_answers_count\u001b[39m\u001b[33m'\u001b[39m: \u001b[38;5;28mlen\u001b[39m(answers_all),\n\u001b[32m      8\u001b[39m     \u001b[33m'\u001b[39m\u001b[33mtop_level_answers_count\u001b[39m\u001b[33m'\u001b[39m: \u001b[38;5;28mlen\u001b[39m(answers_top_level)\n\u001b[32m      9\u001b[39m })\n\u001b[32m     11\u001b[39m \u001b[38;5;66;03m# Preview top 3 top-level answers (show body & score if present)\u001b[39;00m\n",
      "\u001b[36mCell\u001b[39m\u001b[36m \u001b[39m\u001b[32mIn[10]\u001b[39m\u001b[32m, line 31\u001b[39m, in \u001b[36mget_answers_for_question\u001b[39m\u001b[34m(question_permalink, include_descendants, sort_by)\u001b[39m\n\u001b[32m     27\u001b[39m thread_answers = df_answers[df_answers[\u001b[33m'\u001b[39m\u001b[33m_submission_id\u001b[39m\u001b[33m'\u001b[39m] == sub_id].copy()\n\u001b[32m     29\u001b[39m \u001b[38;5;28;01mif\u001b[39;00m \u001b[38;5;129;01mnot\u001b[39;00m include_descendants:\n\u001b[32m     30\u001b[39m     \u001b[38;5;66;03m# Keep only comments whose parent is the submission (parent_id starts with t3_<sub>)\u001b[39;00m\n\u001b[32m---> \u001b[39m\u001b[32m31\u001b[39m     thread_answers = thread_answers[\u001b[43mthread_answers\u001b[49m\u001b[43m[\u001b[49m\u001b[33;43m'\u001b[39;49m\u001b[33;43mparent_id\u001b[39;49m\u001b[33;43m'\u001b[39;49m\u001b[43m]\u001b[49m.astype(\u001b[38;5;28mstr\u001b[39m) == \u001b[33mf\u001b[39m\u001b[33m'\u001b[39m\u001b[33mt3_\u001b[39m\u001b[38;5;132;01m{\u001b[39;00msub_id\u001b[38;5;132;01m}\u001b[39;00m\u001b[33m'\u001b[39m]\n\u001b[32m     33\u001b[39m \u001b[38;5;28;01mif\u001b[39;00m sort_by \u001b[38;5;129;01mand\u001b[39;00m sort_by \u001b[38;5;129;01min\u001b[39;00m thread_answers.columns:\n\u001b[32m     34\u001b[39m     thread_answers = thread_answers.sort_values(sort_by, ascending=\u001b[38;5;28;01mFalse\u001b[39;00m)\n",
      "\u001b[36mFile \u001b[39m\u001b[32m~/.local/lib/python3.12/site-packages/pandas/core/frame.py:4107\u001b[39m, in \u001b[36mDataFrame.__getitem__\u001b[39m\u001b[34m(self, key)\u001b[39m\n\u001b[32m   4105\u001b[39m \u001b[38;5;28;01mif\u001b[39;00m \u001b[38;5;28mself\u001b[39m.columns.nlevels > \u001b[32m1\u001b[39m:\n\u001b[32m   4106\u001b[39m     \u001b[38;5;28;01mreturn\u001b[39;00m \u001b[38;5;28mself\u001b[39m._getitem_multilevel(key)\n\u001b[32m-> \u001b[39m\u001b[32m4107\u001b[39m indexer = \u001b[38;5;28;43mself\u001b[39;49m\u001b[43m.\u001b[49m\u001b[43mcolumns\u001b[49m\u001b[43m.\u001b[49m\u001b[43mget_loc\u001b[49m\u001b[43m(\u001b[49m\u001b[43mkey\u001b[49m\u001b[43m)\u001b[49m\n\u001b[32m   4108\u001b[39m \u001b[38;5;28;01mif\u001b[39;00m is_integer(indexer):\n\u001b[32m   4109\u001b[39m     indexer = [indexer]\n",
      "\u001b[36mFile \u001b[39m\u001b[32m~/.local/lib/python3.12/site-packages/pandas/core/indexes/base.py:3819\u001b[39m, in \u001b[36mIndex.get_loc\u001b[39m\u001b[34m(self, key)\u001b[39m\n\u001b[32m   3814\u001b[39m     \u001b[38;5;28;01mif\u001b[39;00m \u001b[38;5;28misinstance\u001b[39m(casted_key, \u001b[38;5;28mslice\u001b[39m) \u001b[38;5;129;01mor\u001b[39;00m (\n\u001b[32m   3815\u001b[39m         \u001b[38;5;28misinstance\u001b[39m(casted_key, abc.Iterable)\n\u001b[32m   3816\u001b[39m         \u001b[38;5;129;01mand\u001b[39;00m \u001b[38;5;28many\u001b[39m(\u001b[38;5;28misinstance\u001b[39m(x, \u001b[38;5;28mslice\u001b[39m) \u001b[38;5;28;01mfor\u001b[39;00m x \u001b[38;5;129;01min\u001b[39;00m casted_key)\n\u001b[32m   3817\u001b[39m     ):\n\u001b[32m   3818\u001b[39m         \u001b[38;5;28;01mraise\u001b[39;00m InvalidIndexError(key)\n\u001b[32m-> \u001b[39m\u001b[32m3819\u001b[39m     \u001b[38;5;28;01mraise\u001b[39;00m \u001b[38;5;167;01mKeyError\u001b[39;00m(key) \u001b[38;5;28;01mfrom\u001b[39;00m\u001b[38;5;250m \u001b[39m\u001b[34;01merr\u001b[39;00m\n\u001b[32m   3820\u001b[39m \u001b[38;5;28;01mexcept\u001b[39;00m \u001b[38;5;167;01mTypeError\u001b[39;00m:\n\u001b[32m   3821\u001b[39m     \u001b[38;5;66;03m# If we have a listlike key, _check_indexing_error will raise\u001b[39;00m\n\u001b[32m   3822\u001b[39m     \u001b[38;5;66;03m#  InvalidIndexError. Otherwise we fall through and re-raise\u001b[39;00m\n\u001b[32m   3823\u001b[39m     \u001b[38;5;66;03m#  the TypeError.\u001b[39;00m\n\u001b[32m   3824\u001b[39m     \u001b[38;5;28mself\u001b[39m._check_indexing_error(key)\n",
      "\u001b[31mKeyError\u001b[39m: 'parent_id'"
     ]
    }
   ],
   "source": [
    "# Example usage with the provided question permalink\n",
    "example_question = \"https://old.reddit.com/r/AskReddit/comments/k3w3qz/someone_offers_you_100hr_to_watch_any_movie_on/\"\n",
    "answers_all = get_answers_for_question(example_question, include_descendants=True)\n",
    "answers_top_level = get_answers_for_question(example_question, include_descendants=False)\n",
    "\n",
    "print({\n",
    "    'all_answers_count': len(answers_all),\n",
    "    'top_level_answers_count': len(answers_top_level)\n",
    "})\n",
    "\n",
    "# Preview top 3 top-level answers (show body & score if present)\n",
    "cols_show = [c for c in ['body', 'score', 'ups', 'id', 'parent_id'] if c in answers_top_level.columns]\n",
    "display(answers_top_level.head(3)[cols_show])"
   ]
  },
  {
   "cell_type": "code",
   "execution_count": null,
   "metadata": {},
   "outputs": [],
   "source": []
  },
  {
   "cell_type": "code",
   "execution_count": null,
   "metadata": {},
   "outputs": [],
   "source": []
  },
  {
   "cell_type": "code",
   "execution_count": null,
   "metadata": {},
   "outputs": [],
   "source": []
  },
  {
   "cell_type": "code",
   "execution_count": null,
   "metadata": {},
   "outputs": [],
   "source": []
  },
  {
   "cell_type": "code",
   "execution_count": null,
   "metadata": {},
   "outputs": [],
   "source": []
  },
  {
   "cell_type": "code",
   "execution_count": null,
   "metadata": {},
   "outputs": [],
   "source": []
  },
  {
   "cell_type": "code",
   "execution_count": null,
   "metadata": {},
   "outputs": [],
   "source": [
    "import re\n",
    "from typing import Optional\n",
    "\n",
    "# Detect parent column dynamically (may vary in schema)\n",
    "PARENT_COL = next((c for c in ['parent_id', 'parent.id', 'parent', 'parent_fullname'] if c in df_answers.columns), None)\n",
    "\n",
    "# Add (or reuse) cached submission_id columns for efficiency\n",
    "if '_submission_id' not in df_answers.columns:\n",
    "    df_answers['_submission_id'] = df_answers['permalink'].str.extract(r'/comments/([a-z0-9]+)/')\n",
    "if '_submission_id' not in df_questions.columns:\n",
    "    df_questions['_submission_id'] = df_questions['permalink'].str.extract(r'/comments/([a-z0-9]+)/')\n",
    "\n",
    "# Also normalize parent ids for hierarchical traversal if parent col exists\n",
    "if PARENT_COL and '_parent_norm' not in df_answers.columns:\n",
    "    df_answers['_parent_norm'] = df_answers[PARENT_COL].astype(str).str.replace(r'^(t1_|t3_)', '', regex=True)\n",
    "\n",
    "# Helper to extract submission id from a single permalink string\n",
    "def extract_submission_id(permalink: str) -> Optional[str]:\n",
    "    if not isinstance(permalink, str):\n",
    "        return None\n",
    "    m = re.search(r'/comments/([a-z0-9]+)/', permalink)\n",
    "    return m.group(1) if m else None\n",
    "\n",
    "\n",
    "def get_answers_for_question(question_permalink: str, include_descendants: bool = True, sort_by: Optional[str] = 'score'):\n",
    "    \"\"\"Return a DataFrame of answers for a question permalink.\n",
    "\n",
    "    Parameters\n",
    "    ----------\n",
    "    question_permalink : str\n",
    "        The permalink of the question/submission (no trailing comment id).\n",
    "    include_descendants : bool, default True\n",
    "        If True, returns ALL comments in the thread (any depth).\n",
    "        If False, returns only TOP-LEVEL answers (parent is the submission). If the parent column\n",
    "        is missing, this falls back to all answers with a warning column.\n",
    "    sort_by : str | None\n",
    "        Column to sort by descending (e.g., 'score', 'ups'). If missing or None, no sorting.\n",
    "    \"\"\"\n",
    "    sub_id = extract_submission_id(question_permalink)\n",
    "    if not sub_id:\n",
    "        raise ValueError(f\"Could not extract submission id from permalink: {question_permalink}\")\n",
    "\n",
    "    # All comments tied to this submission id\n",
    "    thread_answers = df_answers[df_answers['_submission_id'] == sub_id].copy()\n",
    "\n",
    "    if not include_descendants:\n",
    "        if not PARENT_COL:\n",
    "            # Cannot distinguish top-level without a parent column\n",
    "            thread_answers['_top_level_detection'] = 'parent_column_missing'\n",
    "        else:\n",
    "            # Keep only comments whose parent is the submission (parent id equals t3_<sub_id> or raw sub_id)\n",
    "            parent_target_1 = f't3_{sub_id}'\n",
    "            # Some dumps may store just the raw submission id; include that as fallback\n",
    "            parent_target_2 = sub_id\n",
    "            thread_answers = thread_answers[thread_answers[PARENT_COL].astype(str).isin([parent_target_1, parent_target_2])]\n",
    "\n",
    "    if sort_by and sort_by in thread_answers.columns:\n",
    "        thread_answers = thread_answers.sort_values(sort_by, ascending=False)\n",
    "\n",
    "    return thread_answers\n",
    "\n",
    "# Quick diagnostics for user clarity\n",
    "print({'detected_parent_col': PARENT_COL})\n",
    "\n",
    "# Example usage with the provided question permalink\n",
    "example_question = \"https://old.reddit.com/r/AskReddit/comments/k3w3qz/someone_offers_you_100hr_to_watch_any_movie_on/\"\n",
    "answers_all = get_answers_for_question(example_question, include_descendants=True)\n",
    "answers_top_level = get_answers_for_question(example_question, include_descendants=False)\n",
    "\n",
    "print({\n",
    "    'all_answers_count': len(answers_all),\n",
    "    'top_level_answers_count': len(answers_top_level)\n",
    "})\n",
    "\n",
    "# Preview top 3 top-level answers (show body & score if present)\n",
    "cols_show = [c for c in ['body', 'score', 'ups', 'id', PARENT_COL] if c and c in answers_top_level.columns]\n",
    "display(answers_top_level.head(3)[cols_show])"
   ]
  },
  {
   "cell_type": "code",
   "execution_count": null,
   "metadata": {},
   "outputs": [],
   "source": [
    "import re\n",
    "\n",
    "# Configure sample size to keep the check lightweight\n",
    "SAMPLE_N = 50000\n",
    "\n",
    "# Key columns\n",
    "ans_parent_col = 'parent_id' if 'parent_id' in df_answers.columns else None\n",
    "q_id_col = 'id' if 'id' in df_questions.columns else None\n",
    "\n",
    "assert ans_parent_col and q_id_col, f\"Missing join keys. answers parent={ans_parent_col}, questions id={q_id_col}\"\n",
    "\n",
    "# Sample a manageable slice of answers\n",
    "ans_base = df_answers[[ans_parent_col, 'permalink']].sample(\n",
    "    n=min(SAMPLE_N, len(df_answers)), random_state=0\n",
    ").copy()\n",
    "\n",
    "# Normalize IDs (remove t1_/t3_ prefixes)\n",
    "ans_base['_parent_norm'] = ans_base[ans_parent_col].astype(str).str.replace(r'^(t1_|t3_)', '', regex=True)\n",
    "\n",
    "# Build a minimal questions slice that could match the sampled answers\n",
    "# 1) filter questions whose id (normalized) appears in sampled parent ids\n",
    "parent_norms = set(ans_base['_parent_norm'].dropna().unique().tolist())\n",
    "q_base = df_questions[[q_id_col, 'permalink']].copy()\n",
    "q_base['_qid_norm'] = q_base[q_id_col].astype(str).str.replace(r'^(t1_|t3_)', '', regex=True)\n",
    "q_base = q_base[q_base['_qid_norm'].isin(parent_norms)]\n",
    "\n",
    "# Parent-id based join (expected to match many)\n",
    "pairs_pid = ans_base.merge(\n",
    "    q_base,\n",
    "    left_on='_parent_norm', right_on='_qid_norm', how='inner',\n",
    "    suffixes=('_ans', '_q')\n",
    ")\n",
    "\n",
    "# Permalink equality join (expected to be rare)\n",
    "# Limit q_perma to those appearing in sampled answers to avoid large merge sets\n",
    "ans_permas = set(ans_base['permalink'].dropna().unique().tolist())\n",
    "q_perma = df_questions[['permalink']].copy()\n",
    "q_perma = q_perma[q_perma['permalink'].isin(ans_permas)]\n",
    "pairs_link = ans_base[['permalink']].merge(q_perma, on='permalink', how='inner')\n",
    "\n",
    "print({\n",
    "    'answers_rows': len(df_answers),\n",
    "    'questions_rows': len(df_questions),\n",
    "    'answers_sampled': len(ans_base),\n",
    "    'pairs_parentId_join_sample': len(pairs_pid),\n",
    "    'pairs_permalink_join_sample': len(pairs_link),\n",
    "})\n",
    "\n",
    "# Show a small sample to illustrate permalink differences\n",
    "if not pairs_pid.empty:\n",
    "    preview_cols = ['permalink_ans', 'permalink_q', ans_parent_col, q_id_col]\n",
    "    display(pairs_pid.head(5)[preview_cols])\n",
    "else:\n",
    "    print(\"No matches found in the sample via parent_id; increase SAMPLE_N or verify columns.\")"
   ]
  },
  {
   "cell_type": "markdown",
   "metadata": {},
   "source": [
    "## Can `permalink` be used to join questions and answers?\n",
    "\n",
    "Short answer: not directly. A comment’s `permalink` points to that specific comment, while a question’s `permalink` points to the parent comment. These usually differ. The reliable key is:\n",
    "- answers.parent_id (strip t1_/t3_) == questions.id (comment id)\n",
    "\n",
    "Below, we’ll verify this on a sample and show how many pairs match via `parent_id` vs exact `permalink`. "
   ]
  },
  {
   "cell_type": "code",
   "execution_count": null,
   "metadata": {},
   "outputs": [],
   "source": []
  },
  {
   "cell_type": "code",
   "execution_count": null,
   "metadata": {},
   "outputs": [],
   "source": []
  },
  {
   "cell_type": "code",
   "execution_count": null,
   "metadata": {},
   "outputs": [],
   "source": []
  },
  {
   "cell_type": "code",
   "execution_count": null,
   "metadata": {},
   "outputs": [],
   "source": []
  },
  {
   "cell_type": "code",
   "execution_count": null,
   "metadata": {},
   "outputs": [],
   "source": []
  },
  {
   "cell_type": "code",
   "execution_count": 5,
   "metadata": {},
   "outputs": [
    {
     "name": "stdout",
     "output_type": "stream",
     "text": [
      "ten-million-reddit-answers-questions.csv  ten-million-reddit-answers.csv\n"
     ]
    }
   ],
   "source": [
    "!ls /home/codespace/.cache/kagglehub/datasets/pavellexyr/ten-million-reddit-answers/versions/1"
   ]
  },
  {
   "cell_type": "code",
   "execution_count": 18,
   "metadata": {},
   "outputs": [],
   "source": [
    "from datasets import load_dataset\n",
    "\n",
    "data = load_dataset(\"Amod/mental_health_counseling_conversations\")"
   ]
  },
  {
   "cell_type": "code",
   "execution_count": 19,
   "metadata": {},
   "outputs": [
    {
     "name": "stdout",
     "output_type": "stream",
     "text": [
      "DatasetDict({\n",
      "    train: Dataset({\n",
      "        features: ['Context', 'Response'],\n",
      "        num_rows: 3512\n",
      "    })\n",
      "})\n"
     ]
    }
   ],
   "source": [
    "print(data)"
   ]
  },
  {
   "cell_type": "code",
   "execution_count": 20,
   "metadata": {},
   "outputs": [],
   "source": [
    "# preprocess the data for finetuning\n",
    "\n",
    "import json\n",
    "\n",
    "def preprocess_data(dataset):\n",
    "    data = []\n",
    "    for entry in dataset['train']:\n",
    "        context = entry['Context']\n",
    "        response = entry['Response']\n",
    "        messages = [\n",
    "            {\"role\": \"user\", \"content\": context},\n",
    "            {\"role\": \"assistant\", \"content\": response}\n",
    "        ]\n",
    "        data.append({\"messages\": messages})\n",
    "    return data\n",
    "\n",
    "data_n = preprocess_data(data)"
   ]
  },
  {
   "cell_type": "code",
   "execution_count": 21,
   "metadata": {},
   "outputs": [],
   "source": [
    "# save the preprocessed data to a JSON file\n",
    "\n",
    "with open('fine_tune_data.jsonl','w') as f:\n",
    "    for entry in data_n:\n",
    "        f.write(json.dumps(entry) + '\\n')"
   ]
  },
  {
   "cell_type": "code",
   "execution_count": 22,
   "metadata": {},
   "outputs": [
    {
     "name": "stdout",
     "output_type": "stream",
     "text": [
      "Num examples: 3512\n",
      "Found errors:\n",
      "missing_content: 4\n"
     ]
    }
   ],
   "source": [
    "from collections import defaultdict\n",
    "\n",
    "data_path = \"fine_tune_data.jsonl\"\n",
    "\n",
    "# Load the dataset\n",
    "with open(data_path, 'r', encoding='utf-8') as f:\n",
    "  dataset = [json.loads(line) for line in f]\n",
    "\n",
    "# Initial dataset stats\n",
    "print(\"Num examples:\", len(dataset))\n",
    "\n",
    "# Format error checks\n",
    "format_errors = defaultdict(int)\n",
    "\n",
    "for ex in dataset:\n",
    "    if not isinstance(ex, dict):\n",
    "        format_errors[\"data_type\"] += 1\n",
    "        continue\n",
    "        \n",
    "    messages = ex.get(\"messages\", None)\n",
    "    if not messages:\n",
    "        format_errors[\"missing_messages_list\"] += 1\n",
    "        continue\n",
    "        \n",
    "    for message in messages:\n",
    "        if \"role\" not in message or \"content\" not in message:\n",
    "            format_errors[\"message_missing_key\"] += 1\n",
    "        \n",
    "        if any(k not in (\"role\", \"content\", \"name\", \"function_call\") for k in message):\n",
    "            format_errors[\"message_unrecognized_key\"] += 1\n",
    "        \n",
    "        if message.get(\"role\", None) not in (\"system\", \"user\", \"assistant\", \"function\"):\n",
    "            format_errors[\"unrecognized_role\"] += 1\n",
    "            \n",
    "        content = message.get(\"content\", None)\n",
    "        function_call = message.get(\"function_call\", None)\n",
    "        \n",
    "        if (not content and not function_call) or not isinstance(content, str):\n",
    "            format_errors[\"missing_content\"] += 1\n",
    "    \n",
    "    if not any(message.get(\"role\", None) == \"assistant\" for message in messages):\n",
    "        format_errors[\"example_missing_assistant_message\"] += 1\n",
    "\n",
    "if format_errors:\n",
    "    print(\"Found errors:\")\n",
    "    for k, v in format_errors.items():\n",
    "        print(f\"{k}: {v}\")\n",
    "else:\n",
    "    print(\"No errors found\")"
   ]
  },
  {
   "cell_type": "code",
   "execution_count": 23,
   "metadata": {},
   "outputs": [],
   "source": [
    "# Importing OpenAI \n",
    "import openai\n",
    "from openai import OpenAI\n",
    "import os\n",
    "\n",
    "os.environ[\"OPENAI_API_KEY\"] = \"API_KEY\"\n",
    "openai.api_key=os.getenv('OPENAI_API_KEY')\n",
    "\n",
    "client = OpenAI()"
   ]
  },
  {
   "cell_type": "code",
   "execution_count": 25,
   "metadata": {},
   "outputs": [
    {
     "data": {
      "text/plain": [
       "FileObject(id='file-BHKXHF3ZFBs9j3tNw3kQLqpF', bytes=4987663, created_at=1718070827, filename='fine_tune_data.jsonl', object='file', purpose='fine-tune', status='processed', status_details=None)"
      ]
     },
     "execution_count": 25,
     "metadata": {},
     "output_type": "execute_result"
    }
   ],
   "source": [
    "# fine tuning\n",
    "# sending data to OpenAI\n",
    "\n",
    "client.files.create(\n",
    "    file = open('fine_tune_data.jsonl', 'rb'),\n",
    "    purpose = 'fine-tune'\n",
    ")"
   ]
  },
  {
   "cell_type": "code",
   "execution_count": 26,
   "metadata": {},
   "outputs": [
    {
     "data": {
      "text/plain": [
       "FineTuningJob(id='ftjob-BIGkTrcQWT6Jt1loGndfi4AE', created_at=1718070877, error=Error(code=None, message=None, param=None), fine_tuned_model=None, finished_at=None, hyperparameters=Hyperparameters(n_epochs='auto', batch_size='auto', learning_rate_multiplier='auto'), model='gpt-3.5-turbo-0125', object='fine_tuning.job', organization_id='org-WrpVCZI7H4QoDgRGsecsrDn2', result_files=[], seed=367529326, status='validating_files', trained_tokens=None, training_file='file-BHKXHF3ZFBs9j3tNw3kQLqpF', validation_file=None, estimated_finish=None, integrations=[], user_provided_suffix=None)"
      ]
     },
     "execution_count": 26,
     "metadata": {},
     "output_type": "execute_result"
    }
   ],
   "source": [
    "client.fine_tuning.jobs.create(\n",
    "    training_file='file-BHKXHF3ZFBs9j3tNw3kQLqpF',\n",
    "    model='gpt-3.5-turbo'\n",
    ")"
   ]
  },
  {
   "cell_type": "code",
   "execution_count": 32,
   "metadata": {},
   "outputs": [
    {
     "data": {
      "text/plain": [
       "SyncCursorPage[FineTuningJob](data=[FineTuningJob(id='ftjob-BIGkTrcQWT6Jt1loGndfi4AE', created_at=1718070877, error=Error(code=None, message=None, param=None), fine_tuned_model=None, finished_at=None, hyperparameters=Hyperparameters(n_epochs=3, batch_size=7, learning_rate_multiplier=2), model='gpt-3.5-turbo-0125', object='fine_tuning.job', organization_id='org-WrpVCZI7H4QoDgRGsecsrDn2', result_files=[], seed=367529326, status='running', trained_tokens=None, training_file='file-BHKXHF3ZFBs9j3tNw3kQLqpF', validation_file=None, estimated_finish=None, integrations=[], user_provided_suffix=None)], object='list', has_more=False)"
      ]
     },
     "execution_count": 32,
     "metadata": {},
     "output_type": "execute_result"
    }
   ],
   "source": [
    "client.fine_tuning.jobs.list()"
   ]
  },
  {
   "cell_type": "code",
   "execution_count": 29,
   "metadata": {},
   "outputs": [],
   "source": [
    "system_prompt = \"Jessy is a mental health councelling chatbot who likes to answer with bullets.\"\n",
    "user_context = \"I am a kidnapping survivor and have PTSD. I have an autoimmune disease which keeps on growing strong day by day.\""
   ]
  },
  {
   "cell_type": "code",
   "execution_count": 31,
   "metadata": {},
   "outputs": [
    {
     "ename": "APIRemovedInV1",
     "evalue": "\n\nYou tried to access openai.FineTune, but this is no longer supported in openai>=1.0.0 - see the README at https://github.com/openai/openai-python for the API.\n\nYou can run `openai migrate` to automatically upgrade your codebase to use the 1.0.0 interface. \n\nAlternatively, you can pin your installation to the old version, e.g. `pip install openai==0.28`\n\nA detailed migration guide is available here: https://github.com/openai/openai-python/discussions/742\n",
     "output_type": "error",
     "traceback": [
      "\u001b[0;31m---------------------------------------------------------------------------\u001b[0m",
      "\u001b[0;31mAPIRemovedInV1\u001b[0m                            Traceback (most recent call last)",
      "Cell \u001b[0;32mIn[31], line 3\u001b[0m\n\u001b[1;32m      1\u001b[0m \u001b[38;5;66;03m# Check the status of the fine-tuning job\u001b[39;00m\n\u001b[1;32m      2\u001b[0m fine_tune_job_id \u001b[38;5;241m=\u001b[39m \u001b[38;5;124m'\u001b[39m\u001b[38;5;124mftjob-BIGkTrcQWT6Jt1loGndfi4AE\u001b[39m\u001b[38;5;124m'\u001b[39m  \u001b[38;5;66;03m# Replace with your actual job ID\u001b[39;00m\n\u001b[0;32m----> 3\u001b[0m fine_tune_job \u001b[38;5;241m=\u001b[39m \u001b[43mopenai\u001b[49m\u001b[38;5;241;43m.\u001b[39;49m\u001b[43mFineTune\u001b[49m\u001b[38;5;241;43m.\u001b[39;49m\u001b[43mretrieve\u001b[49m\u001b[43m(\u001b[49m\u001b[38;5;28;43mid\u001b[39;49m\u001b[38;5;241;43m=\u001b[39;49m\u001b[43mfine_tune_job_id\u001b[49m\u001b[43m)\u001b[49m\n\u001b[1;32m      5\u001b[0m \u001b[38;5;66;03m# Print the fine-tuning job details\u001b[39;00m\n\u001b[1;32m      6\u001b[0m \u001b[38;5;28mprint\u001b[39m(fine_tune_job)\n",
      "File \u001b[0;32m~/.python/current/lib/python3.10/site-packages/openai/lib/_old_api.py:39\u001b[0m, in \u001b[0;36mAPIRemovedInV1Proxy.__call__\u001b[0;34m(self, *_args, **_kwargs)\u001b[0m\n\u001b[1;32m     38\u001b[0m \u001b[38;5;28;01mdef\u001b[39;00m \u001b[38;5;21m__call__\u001b[39m(\u001b[38;5;28mself\u001b[39m, \u001b[38;5;241m*\u001b[39m_args: Any, \u001b[38;5;241m*\u001b[39m\u001b[38;5;241m*\u001b[39m_kwargs: Any) \u001b[38;5;241m-\u001b[39m\u001b[38;5;241m>\u001b[39m Any:\n\u001b[0;32m---> 39\u001b[0m     \u001b[38;5;28;01mraise\u001b[39;00m APIRemovedInV1(symbol\u001b[38;5;241m=\u001b[39m\u001b[38;5;28mself\u001b[39m\u001b[38;5;241m.\u001b[39m_symbol)\n",
      "\u001b[0;31mAPIRemovedInV1\u001b[0m: \n\nYou tried to access openai.FineTune, but this is no longer supported in openai>=1.0.0 - see the README at https://github.com/openai/openai-python for the API.\n\nYou can run `openai migrate` to automatically upgrade your codebase to use the 1.0.0 interface. \n\nAlternatively, you can pin your installation to the old version, e.g. `pip install openai==0.28`\n\nA detailed migration guide is available here: https://github.com/openai/openai-python/discussions/742\n"
     ]
    }
   ],
   "source": [
    "# Check the status of the fine-tuning job\n",
    "fine_tune_job_id = 'ftjob-BIGkTrcQWT6Jt1loGndfi4AE'  # Replace with your actual job ID\n",
    "fine_tune_job = openai.FineTune.retrieve(id=fine_tune_job_id)\n",
    "\n",
    "# Print the fine-tuning job details\n",
    "print(fine_tune_job)\n",
    "\n",
    "# Get the fine-tuned model ID\n",
    "if fine_tune_job['status'] == 'succeeded':\n",
    "    fine_tuned_model_id = fine_tune_job['fine_tuned_model']\n",
    "    print(f\"Fine-tuned model ID: {fine_tuned_model_id}\")\n",
    "else:\n",
    "    print(\"Fine-tuning job is not yet completed or has failed.\")"
   ]
  },
  {
   "cell_type": "code",
   "execution_count": 30,
   "metadata": {},
   "outputs": [
    {
     "ename": "NotFoundError",
     "evalue": "Error code: 404 - {'error': {'message': 'The model `ft:gpt-3.5-turbo-0125` does not exist or you do not have access to it.', 'type': 'invalid_request_error', 'param': None, 'code': 'model_not_found'}}",
     "output_type": "error",
     "traceback": [
      "\u001b[0;31m---------------------------------------------------------------------------\u001b[0m",
      "\u001b[0;31mNotFoundError\u001b[0m                             Traceback (most recent call last)",
      "Cell \u001b[0;32mIn[30], line 1\u001b[0m\n\u001b[0;32m----> 1\u001b[0m response \u001b[38;5;241m=\u001b[39m \u001b[43mclient\u001b[49m\u001b[38;5;241;43m.\u001b[39;49m\u001b[43mchat\u001b[49m\u001b[38;5;241;43m.\u001b[39;49m\u001b[43mcompletions\u001b[49m\u001b[38;5;241;43m.\u001b[39;49m\u001b[43mcreate\u001b[49m\u001b[43m(\u001b[49m\n\u001b[1;32m      2\u001b[0m \u001b[43m    \u001b[49m\u001b[43mmodel\u001b[49m\u001b[43m \u001b[49m\u001b[38;5;241;43m=\u001b[39;49m\u001b[43m \u001b[49m\u001b[38;5;124;43m\"\u001b[39;49m\u001b[38;5;124;43mft:gpt-3.5-turbo-0125\u001b[39;49m\u001b[38;5;124;43m\"\u001b[39;49m\u001b[43m,\u001b[49m\n\u001b[1;32m      3\u001b[0m \u001b[43m    \u001b[49m\u001b[43mmessages\u001b[49m\u001b[43m \u001b[49m\u001b[38;5;241;43m=\u001b[39;49m\u001b[43m \u001b[49m\u001b[43m[\u001b[49m\n\u001b[1;32m      4\u001b[0m \u001b[43m        \u001b[49m\u001b[43m{\u001b[49m\u001b[38;5;124;43m'\u001b[39;49m\u001b[38;5;124;43mrole\u001b[39;49m\u001b[38;5;124;43m'\u001b[39;49m\u001b[43m:\u001b[49m\u001b[38;5;124;43m'\u001b[39;49m\u001b[38;5;124;43msystem\u001b[39;49m\u001b[38;5;124;43m'\u001b[39;49m\u001b[43m,\u001b[49m\u001b[43m \u001b[49m\u001b[38;5;124;43m\"\u001b[39;49m\u001b[38;5;124;43mcontent\u001b[39;49m\u001b[38;5;124;43m\"\u001b[39;49m\u001b[43m:\u001b[49m\u001b[43m \u001b[49m\u001b[43msystem_prompt\u001b[49m\u001b[43m}\u001b[49m\u001b[43m,\u001b[49m\n\u001b[1;32m      5\u001b[0m \u001b[43m        \u001b[49m\u001b[43m{\u001b[49m\u001b[38;5;124;43m'\u001b[39;49m\u001b[38;5;124;43mrole\u001b[39;49m\u001b[38;5;124;43m'\u001b[39;49m\u001b[43m:\u001b[49m\u001b[38;5;124;43m'\u001b[39;49m\u001b[38;5;124;43muser\u001b[39;49m\u001b[38;5;124;43m'\u001b[39;49m\u001b[43m,\u001b[49m\u001b[43m \u001b[49m\u001b[38;5;124;43m\"\u001b[39;49m\u001b[38;5;124;43mcontent\u001b[39;49m\u001b[38;5;124;43m\"\u001b[39;49m\u001b[43m:\u001b[49m\u001b[43m \u001b[49m\u001b[43muser_context\u001b[49m\u001b[43m}\u001b[49m\n\u001b[1;32m      6\u001b[0m \u001b[43m    \u001b[49m\u001b[43m]\u001b[49m\n\u001b[1;32m      7\u001b[0m \u001b[43m)\u001b[49m\n",
      "File \u001b[0;32m~/.python/current/lib/python3.10/site-packages/openai/_utils/_utils.py:277\u001b[0m, in \u001b[0;36mrequired_args.<locals>.inner.<locals>.wrapper\u001b[0;34m(*args, **kwargs)\u001b[0m\n\u001b[1;32m    275\u001b[0m             msg \u001b[38;5;241m=\u001b[39m \u001b[38;5;124mf\u001b[39m\u001b[38;5;124m\"\u001b[39m\u001b[38;5;124mMissing required argument: \u001b[39m\u001b[38;5;132;01m{\u001b[39;00mquote(missing[\u001b[38;5;241m0\u001b[39m])\u001b[38;5;132;01m}\u001b[39;00m\u001b[38;5;124m\"\u001b[39m\n\u001b[1;32m    276\u001b[0m     \u001b[38;5;28;01mraise\u001b[39;00m \u001b[38;5;167;01mTypeError\u001b[39;00m(msg)\n\u001b[0;32m--> 277\u001b[0m \u001b[38;5;28;01mreturn\u001b[39;00m \u001b[43mfunc\u001b[49m\u001b[43m(\u001b[49m\u001b[38;5;241;43m*\u001b[39;49m\u001b[43margs\u001b[49m\u001b[43m,\u001b[49m\u001b[43m \u001b[49m\u001b[38;5;241;43m*\u001b[39;49m\u001b[38;5;241;43m*\u001b[39;49m\u001b[43mkwargs\u001b[49m\u001b[43m)\u001b[49m\n",
      "File \u001b[0;32m~/.python/current/lib/python3.10/site-packages/openai/resources/chat/completions.py:606\u001b[0m, in \u001b[0;36mCompletions.create\u001b[0;34m(self, messages, model, frequency_penalty, function_call, functions, logit_bias, logprobs, max_tokens, n, parallel_tool_calls, presence_penalty, response_format, seed, stop, stream, stream_options, temperature, tool_choice, tools, top_logprobs, top_p, user, extra_headers, extra_query, extra_body, timeout)\u001b[0m\n\u001b[1;32m    573\u001b[0m \u001b[38;5;129m@required_args\u001b[39m([\u001b[38;5;124m\"\u001b[39m\u001b[38;5;124mmessages\u001b[39m\u001b[38;5;124m\"\u001b[39m, \u001b[38;5;124m\"\u001b[39m\u001b[38;5;124mmodel\u001b[39m\u001b[38;5;124m\"\u001b[39m], [\u001b[38;5;124m\"\u001b[39m\u001b[38;5;124mmessages\u001b[39m\u001b[38;5;124m\"\u001b[39m, \u001b[38;5;124m\"\u001b[39m\u001b[38;5;124mmodel\u001b[39m\u001b[38;5;124m\"\u001b[39m, \u001b[38;5;124m\"\u001b[39m\u001b[38;5;124mstream\u001b[39m\u001b[38;5;124m\"\u001b[39m])\n\u001b[1;32m    574\u001b[0m \u001b[38;5;28;01mdef\u001b[39;00m \u001b[38;5;21mcreate\u001b[39m(\n\u001b[1;32m    575\u001b[0m     \u001b[38;5;28mself\u001b[39m,\n\u001b[0;32m   (...)\u001b[0m\n\u001b[1;32m    604\u001b[0m     timeout: \u001b[38;5;28mfloat\u001b[39m \u001b[38;5;241m|\u001b[39m httpx\u001b[38;5;241m.\u001b[39mTimeout \u001b[38;5;241m|\u001b[39m \u001b[38;5;28;01mNone\u001b[39;00m \u001b[38;5;241m|\u001b[39m NotGiven \u001b[38;5;241m=\u001b[39m NOT_GIVEN,\n\u001b[1;32m    605\u001b[0m ) \u001b[38;5;241m-\u001b[39m\u001b[38;5;241m>\u001b[39m ChatCompletion \u001b[38;5;241m|\u001b[39m Stream[ChatCompletionChunk]:\n\u001b[0;32m--> 606\u001b[0m     \u001b[38;5;28;01mreturn\u001b[39;00m \u001b[38;5;28;43mself\u001b[39;49m\u001b[38;5;241;43m.\u001b[39;49m\u001b[43m_post\u001b[49m\u001b[43m(\u001b[49m\n\u001b[1;32m    607\u001b[0m \u001b[43m        \u001b[49m\u001b[38;5;124;43m\"\u001b[39;49m\u001b[38;5;124;43m/chat/completions\u001b[39;49m\u001b[38;5;124;43m\"\u001b[39;49m\u001b[43m,\u001b[49m\n\u001b[1;32m    608\u001b[0m \u001b[43m        \u001b[49m\u001b[43mbody\u001b[49m\u001b[38;5;241;43m=\u001b[39;49m\u001b[43mmaybe_transform\u001b[49m\u001b[43m(\u001b[49m\n\u001b[1;32m    609\u001b[0m \u001b[43m            \u001b[49m\u001b[43m{\u001b[49m\n\u001b[1;32m    610\u001b[0m \u001b[43m                \u001b[49m\u001b[38;5;124;43m\"\u001b[39;49m\u001b[38;5;124;43mmessages\u001b[39;49m\u001b[38;5;124;43m\"\u001b[39;49m\u001b[43m:\u001b[49m\u001b[43m \u001b[49m\u001b[43mmessages\u001b[49m\u001b[43m,\u001b[49m\n\u001b[1;32m    611\u001b[0m \u001b[43m                \u001b[49m\u001b[38;5;124;43m\"\u001b[39;49m\u001b[38;5;124;43mmodel\u001b[39;49m\u001b[38;5;124;43m\"\u001b[39;49m\u001b[43m:\u001b[49m\u001b[43m \u001b[49m\u001b[43mmodel\u001b[49m\u001b[43m,\u001b[49m\n\u001b[1;32m    612\u001b[0m \u001b[43m                \u001b[49m\u001b[38;5;124;43m\"\u001b[39;49m\u001b[38;5;124;43mfrequency_penalty\u001b[39;49m\u001b[38;5;124;43m\"\u001b[39;49m\u001b[43m:\u001b[49m\u001b[43m \u001b[49m\u001b[43mfrequency_penalty\u001b[49m\u001b[43m,\u001b[49m\n\u001b[1;32m    613\u001b[0m \u001b[43m                \u001b[49m\u001b[38;5;124;43m\"\u001b[39;49m\u001b[38;5;124;43mfunction_call\u001b[39;49m\u001b[38;5;124;43m\"\u001b[39;49m\u001b[43m:\u001b[49m\u001b[43m \u001b[49m\u001b[43mfunction_call\u001b[49m\u001b[43m,\u001b[49m\n\u001b[1;32m    614\u001b[0m \u001b[43m                \u001b[49m\u001b[38;5;124;43m\"\u001b[39;49m\u001b[38;5;124;43mfunctions\u001b[39;49m\u001b[38;5;124;43m\"\u001b[39;49m\u001b[43m:\u001b[49m\u001b[43m \u001b[49m\u001b[43mfunctions\u001b[49m\u001b[43m,\u001b[49m\n\u001b[1;32m    615\u001b[0m \u001b[43m                \u001b[49m\u001b[38;5;124;43m\"\u001b[39;49m\u001b[38;5;124;43mlogit_bias\u001b[39;49m\u001b[38;5;124;43m\"\u001b[39;49m\u001b[43m:\u001b[49m\u001b[43m \u001b[49m\u001b[43mlogit_bias\u001b[49m\u001b[43m,\u001b[49m\n\u001b[1;32m    616\u001b[0m \u001b[43m                \u001b[49m\u001b[38;5;124;43m\"\u001b[39;49m\u001b[38;5;124;43mlogprobs\u001b[39;49m\u001b[38;5;124;43m\"\u001b[39;49m\u001b[43m:\u001b[49m\u001b[43m \u001b[49m\u001b[43mlogprobs\u001b[49m\u001b[43m,\u001b[49m\n\u001b[1;32m    617\u001b[0m \u001b[43m                \u001b[49m\u001b[38;5;124;43m\"\u001b[39;49m\u001b[38;5;124;43mmax_tokens\u001b[39;49m\u001b[38;5;124;43m\"\u001b[39;49m\u001b[43m:\u001b[49m\u001b[43m \u001b[49m\u001b[43mmax_tokens\u001b[49m\u001b[43m,\u001b[49m\n\u001b[1;32m    618\u001b[0m \u001b[43m                \u001b[49m\u001b[38;5;124;43m\"\u001b[39;49m\u001b[38;5;124;43mn\u001b[39;49m\u001b[38;5;124;43m\"\u001b[39;49m\u001b[43m:\u001b[49m\u001b[43m \u001b[49m\u001b[43mn\u001b[49m\u001b[43m,\u001b[49m\n\u001b[1;32m    619\u001b[0m \u001b[43m                \u001b[49m\u001b[38;5;124;43m\"\u001b[39;49m\u001b[38;5;124;43mparallel_tool_calls\u001b[39;49m\u001b[38;5;124;43m\"\u001b[39;49m\u001b[43m:\u001b[49m\u001b[43m \u001b[49m\u001b[43mparallel_tool_calls\u001b[49m\u001b[43m,\u001b[49m\n\u001b[1;32m    620\u001b[0m \u001b[43m                \u001b[49m\u001b[38;5;124;43m\"\u001b[39;49m\u001b[38;5;124;43mpresence_penalty\u001b[39;49m\u001b[38;5;124;43m\"\u001b[39;49m\u001b[43m:\u001b[49m\u001b[43m \u001b[49m\u001b[43mpresence_penalty\u001b[49m\u001b[43m,\u001b[49m\n\u001b[1;32m    621\u001b[0m \u001b[43m                \u001b[49m\u001b[38;5;124;43m\"\u001b[39;49m\u001b[38;5;124;43mresponse_format\u001b[39;49m\u001b[38;5;124;43m\"\u001b[39;49m\u001b[43m:\u001b[49m\u001b[43m \u001b[49m\u001b[43mresponse_format\u001b[49m\u001b[43m,\u001b[49m\n\u001b[1;32m    622\u001b[0m \u001b[43m                \u001b[49m\u001b[38;5;124;43m\"\u001b[39;49m\u001b[38;5;124;43mseed\u001b[39;49m\u001b[38;5;124;43m\"\u001b[39;49m\u001b[43m:\u001b[49m\u001b[43m \u001b[49m\u001b[43mseed\u001b[49m\u001b[43m,\u001b[49m\n\u001b[1;32m    623\u001b[0m \u001b[43m                \u001b[49m\u001b[38;5;124;43m\"\u001b[39;49m\u001b[38;5;124;43mstop\u001b[39;49m\u001b[38;5;124;43m\"\u001b[39;49m\u001b[43m:\u001b[49m\u001b[43m \u001b[49m\u001b[43mstop\u001b[49m\u001b[43m,\u001b[49m\n\u001b[1;32m    624\u001b[0m \u001b[43m                \u001b[49m\u001b[38;5;124;43m\"\u001b[39;49m\u001b[38;5;124;43mstream\u001b[39;49m\u001b[38;5;124;43m\"\u001b[39;49m\u001b[43m:\u001b[49m\u001b[43m \u001b[49m\u001b[43mstream\u001b[49m\u001b[43m,\u001b[49m\n\u001b[1;32m    625\u001b[0m \u001b[43m                \u001b[49m\u001b[38;5;124;43m\"\u001b[39;49m\u001b[38;5;124;43mstream_options\u001b[39;49m\u001b[38;5;124;43m\"\u001b[39;49m\u001b[43m:\u001b[49m\u001b[43m \u001b[49m\u001b[43mstream_options\u001b[49m\u001b[43m,\u001b[49m\n\u001b[1;32m    626\u001b[0m \u001b[43m                \u001b[49m\u001b[38;5;124;43m\"\u001b[39;49m\u001b[38;5;124;43mtemperature\u001b[39;49m\u001b[38;5;124;43m\"\u001b[39;49m\u001b[43m:\u001b[49m\u001b[43m \u001b[49m\u001b[43mtemperature\u001b[49m\u001b[43m,\u001b[49m\n\u001b[1;32m    627\u001b[0m \u001b[43m                \u001b[49m\u001b[38;5;124;43m\"\u001b[39;49m\u001b[38;5;124;43mtool_choice\u001b[39;49m\u001b[38;5;124;43m\"\u001b[39;49m\u001b[43m:\u001b[49m\u001b[43m \u001b[49m\u001b[43mtool_choice\u001b[49m\u001b[43m,\u001b[49m\n\u001b[1;32m    628\u001b[0m \u001b[43m                \u001b[49m\u001b[38;5;124;43m\"\u001b[39;49m\u001b[38;5;124;43mtools\u001b[39;49m\u001b[38;5;124;43m\"\u001b[39;49m\u001b[43m:\u001b[49m\u001b[43m \u001b[49m\u001b[43mtools\u001b[49m\u001b[43m,\u001b[49m\n\u001b[1;32m    629\u001b[0m \u001b[43m                \u001b[49m\u001b[38;5;124;43m\"\u001b[39;49m\u001b[38;5;124;43mtop_logprobs\u001b[39;49m\u001b[38;5;124;43m\"\u001b[39;49m\u001b[43m:\u001b[49m\u001b[43m \u001b[49m\u001b[43mtop_logprobs\u001b[49m\u001b[43m,\u001b[49m\n\u001b[1;32m    630\u001b[0m \u001b[43m                \u001b[49m\u001b[38;5;124;43m\"\u001b[39;49m\u001b[38;5;124;43mtop_p\u001b[39;49m\u001b[38;5;124;43m\"\u001b[39;49m\u001b[43m:\u001b[49m\u001b[43m \u001b[49m\u001b[43mtop_p\u001b[49m\u001b[43m,\u001b[49m\n\u001b[1;32m    631\u001b[0m \u001b[43m                \u001b[49m\u001b[38;5;124;43m\"\u001b[39;49m\u001b[38;5;124;43muser\u001b[39;49m\u001b[38;5;124;43m\"\u001b[39;49m\u001b[43m:\u001b[49m\u001b[43m \u001b[49m\u001b[43muser\u001b[49m\u001b[43m,\u001b[49m\n\u001b[1;32m    632\u001b[0m \u001b[43m            \u001b[49m\u001b[43m}\u001b[49m\u001b[43m,\u001b[49m\n\u001b[1;32m    633\u001b[0m \u001b[43m            \u001b[49m\u001b[43mcompletion_create_params\u001b[49m\u001b[38;5;241;43m.\u001b[39;49m\u001b[43mCompletionCreateParams\u001b[49m\u001b[43m,\u001b[49m\n\u001b[1;32m    634\u001b[0m \u001b[43m        \u001b[49m\u001b[43m)\u001b[49m\u001b[43m,\u001b[49m\n\u001b[1;32m    635\u001b[0m \u001b[43m        \u001b[49m\u001b[43moptions\u001b[49m\u001b[38;5;241;43m=\u001b[39;49m\u001b[43mmake_request_options\u001b[49m\u001b[43m(\u001b[49m\n\u001b[1;32m    636\u001b[0m \u001b[43m            \u001b[49m\u001b[43mextra_headers\u001b[49m\u001b[38;5;241;43m=\u001b[39;49m\u001b[43mextra_headers\u001b[49m\u001b[43m,\u001b[49m\u001b[43m \u001b[49m\u001b[43mextra_query\u001b[49m\u001b[38;5;241;43m=\u001b[39;49m\u001b[43mextra_query\u001b[49m\u001b[43m,\u001b[49m\u001b[43m \u001b[49m\u001b[43mextra_body\u001b[49m\u001b[38;5;241;43m=\u001b[39;49m\u001b[43mextra_body\u001b[49m\u001b[43m,\u001b[49m\u001b[43m \u001b[49m\u001b[43mtimeout\u001b[49m\u001b[38;5;241;43m=\u001b[39;49m\u001b[43mtimeout\u001b[49m\n\u001b[1;32m    637\u001b[0m \u001b[43m        \u001b[49m\u001b[43m)\u001b[49m\u001b[43m,\u001b[49m\n\u001b[1;32m    638\u001b[0m \u001b[43m        \u001b[49m\u001b[43mcast_to\u001b[49m\u001b[38;5;241;43m=\u001b[39;49m\u001b[43mChatCompletion\u001b[49m\u001b[43m,\u001b[49m\n\u001b[1;32m    639\u001b[0m \u001b[43m        \u001b[49m\u001b[43mstream\u001b[49m\u001b[38;5;241;43m=\u001b[39;49m\u001b[43mstream\u001b[49m\u001b[43m \u001b[49m\u001b[38;5;129;43;01mor\u001b[39;49;00m\u001b[43m \u001b[49m\u001b[38;5;28;43;01mFalse\u001b[39;49;00m\u001b[43m,\u001b[49m\n\u001b[1;32m    640\u001b[0m \u001b[43m        \u001b[49m\u001b[43mstream_cls\u001b[49m\u001b[38;5;241;43m=\u001b[39;49m\u001b[43mStream\u001b[49m\u001b[43m[\u001b[49m\u001b[43mChatCompletionChunk\u001b[49m\u001b[43m]\u001b[49m\u001b[43m,\u001b[49m\n\u001b[1;32m    641\u001b[0m \u001b[43m    \u001b[49m\u001b[43m)\u001b[49m\n",
      "File \u001b[0;32m~/.python/current/lib/python3.10/site-packages/openai/_base_client.py:1240\u001b[0m, in \u001b[0;36mSyncAPIClient.post\u001b[0;34m(self, path, cast_to, body, options, files, stream, stream_cls)\u001b[0m\n\u001b[1;32m   1226\u001b[0m \u001b[38;5;28;01mdef\u001b[39;00m \u001b[38;5;21mpost\u001b[39m(\n\u001b[1;32m   1227\u001b[0m     \u001b[38;5;28mself\u001b[39m,\n\u001b[1;32m   1228\u001b[0m     path: \u001b[38;5;28mstr\u001b[39m,\n\u001b[0;32m   (...)\u001b[0m\n\u001b[1;32m   1235\u001b[0m     stream_cls: \u001b[38;5;28mtype\u001b[39m[_StreamT] \u001b[38;5;241m|\u001b[39m \u001b[38;5;28;01mNone\u001b[39;00m \u001b[38;5;241m=\u001b[39m \u001b[38;5;28;01mNone\u001b[39;00m,\n\u001b[1;32m   1236\u001b[0m ) \u001b[38;5;241m-\u001b[39m\u001b[38;5;241m>\u001b[39m ResponseT \u001b[38;5;241m|\u001b[39m _StreamT:\n\u001b[1;32m   1237\u001b[0m     opts \u001b[38;5;241m=\u001b[39m FinalRequestOptions\u001b[38;5;241m.\u001b[39mconstruct(\n\u001b[1;32m   1238\u001b[0m         method\u001b[38;5;241m=\u001b[39m\u001b[38;5;124m\"\u001b[39m\u001b[38;5;124mpost\u001b[39m\u001b[38;5;124m\"\u001b[39m, url\u001b[38;5;241m=\u001b[39mpath, json_data\u001b[38;5;241m=\u001b[39mbody, files\u001b[38;5;241m=\u001b[39mto_httpx_files(files), \u001b[38;5;241m*\u001b[39m\u001b[38;5;241m*\u001b[39moptions\n\u001b[1;32m   1239\u001b[0m     )\n\u001b[0;32m-> 1240\u001b[0m     \u001b[38;5;28;01mreturn\u001b[39;00m cast(ResponseT, \u001b[38;5;28;43mself\u001b[39;49m\u001b[38;5;241;43m.\u001b[39;49m\u001b[43mrequest\u001b[49m\u001b[43m(\u001b[49m\u001b[43mcast_to\u001b[49m\u001b[43m,\u001b[49m\u001b[43m \u001b[49m\u001b[43mopts\u001b[49m\u001b[43m,\u001b[49m\u001b[43m \u001b[49m\u001b[43mstream\u001b[49m\u001b[38;5;241;43m=\u001b[39;49m\u001b[43mstream\u001b[49m\u001b[43m,\u001b[49m\u001b[43m \u001b[49m\u001b[43mstream_cls\u001b[49m\u001b[38;5;241;43m=\u001b[39;49m\u001b[43mstream_cls\u001b[49m\u001b[43m)\u001b[49m)\n",
      "File \u001b[0;32m~/.python/current/lib/python3.10/site-packages/openai/_base_client.py:921\u001b[0m, in \u001b[0;36mSyncAPIClient.request\u001b[0;34m(self, cast_to, options, remaining_retries, stream, stream_cls)\u001b[0m\n\u001b[1;32m    912\u001b[0m \u001b[38;5;28;01mdef\u001b[39;00m \u001b[38;5;21mrequest\u001b[39m(\n\u001b[1;32m    913\u001b[0m     \u001b[38;5;28mself\u001b[39m,\n\u001b[1;32m    914\u001b[0m     cast_to: Type[ResponseT],\n\u001b[0;32m   (...)\u001b[0m\n\u001b[1;32m    919\u001b[0m     stream_cls: \u001b[38;5;28mtype\u001b[39m[_StreamT] \u001b[38;5;241m|\u001b[39m \u001b[38;5;28;01mNone\u001b[39;00m \u001b[38;5;241m=\u001b[39m \u001b[38;5;28;01mNone\u001b[39;00m,\n\u001b[1;32m    920\u001b[0m ) \u001b[38;5;241m-\u001b[39m\u001b[38;5;241m>\u001b[39m ResponseT \u001b[38;5;241m|\u001b[39m _StreamT:\n\u001b[0;32m--> 921\u001b[0m     \u001b[38;5;28;01mreturn\u001b[39;00m \u001b[38;5;28;43mself\u001b[39;49m\u001b[38;5;241;43m.\u001b[39;49m\u001b[43m_request\u001b[49m\u001b[43m(\u001b[49m\n\u001b[1;32m    922\u001b[0m \u001b[43m        \u001b[49m\u001b[43mcast_to\u001b[49m\u001b[38;5;241;43m=\u001b[39;49m\u001b[43mcast_to\u001b[49m\u001b[43m,\u001b[49m\n\u001b[1;32m    923\u001b[0m \u001b[43m        \u001b[49m\u001b[43moptions\u001b[49m\u001b[38;5;241;43m=\u001b[39;49m\u001b[43moptions\u001b[49m\u001b[43m,\u001b[49m\n\u001b[1;32m    924\u001b[0m \u001b[43m        \u001b[49m\u001b[43mstream\u001b[49m\u001b[38;5;241;43m=\u001b[39;49m\u001b[43mstream\u001b[49m\u001b[43m,\u001b[49m\n\u001b[1;32m    925\u001b[0m \u001b[43m        \u001b[49m\u001b[43mstream_cls\u001b[49m\u001b[38;5;241;43m=\u001b[39;49m\u001b[43mstream_cls\u001b[49m\u001b[43m,\u001b[49m\n\u001b[1;32m    926\u001b[0m \u001b[43m        \u001b[49m\u001b[43mremaining_retries\u001b[49m\u001b[38;5;241;43m=\u001b[39;49m\u001b[43mremaining_retries\u001b[49m\u001b[43m,\u001b[49m\n\u001b[1;32m    927\u001b[0m \u001b[43m    \u001b[49m\u001b[43m)\u001b[49m\n",
      "File \u001b[0;32m~/.python/current/lib/python3.10/site-packages/openai/_base_client.py:1020\u001b[0m, in \u001b[0;36mSyncAPIClient._request\u001b[0;34m(self, cast_to, options, remaining_retries, stream, stream_cls)\u001b[0m\n\u001b[1;32m   1017\u001b[0m         err\u001b[38;5;241m.\u001b[39mresponse\u001b[38;5;241m.\u001b[39mread()\n\u001b[1;32m   1019\u001b[0m     log\u001b[38;5;241m.\u001b[39mdebug(\u001b[38;5;124m\"\u001b[39m\u001b[38;5;124mRe-raising status error\u001b[39m\u001b[38;5;124m\"\u001b[39m)\n\u001b[0;32m-> 1020\u001b[0m     \u001b[38;5;28;01mraise\u001b[39;00m \u001b[38;5;28mself\u001b[39m\u001b[38;5;241m.\u001b[39m_make_status_error_from_response(err\u001b[38;5;241m.\u001b[39mresponse) \u001b[38;5;28;01mfrom\u001b[39;00m \u001b[38;5;28;01mNone\u001b[39;00m\n\u001b[1;32m   1022\u001b[0m \u001b[38;5;28;01mreturn\u001b[39;00m \u001b[38;5;28mself\u001b[39m\u001b[38;5;241m.\u001b[39m_process_response(\n\u001b[1;32m   1023\u001b[0m     cast_to\u001b[38;5;241m=\u001b[39mcast_to,\n\u001b[1;32m   1024\u001b[0m     options\u001b[38;5;241m=\u001b[39moptions,\n\u001b[0;32m   (...)\u001b[0m\n\u001b[1;32m   1027\u001b[0m     stream_cls\u001b[38;5;241m=\u001b[39mstream_cls,\n\u001b[1;32m   1028\u001b[0m )\n",
      "\u001b[0;31mNotFoundError\u001b[0m: Error code: 404 - {'error': {'message': 'The model `ft:gpt-3.5-turbo-0125` does not exist or you do not have access to it.', 'type': 'invalid_request_error', 'param': None, 'code': 'model_not_found'}}"
     ]
    }
   ],
   "source": [
    "response = client.chat.completions.create(\n",
    "    model = \"ft:gpt-3.5-turbo-0125\",\n",
    "    messages = [\n",
    "        {'role':'system', \"content\": system_prompt},\n",
    "        {'role':'user', \"content\": user_context}\n",
    "    ]\n",
    ")"
   ]
  },
  {
   "cell_type": "code",
   "execution_count": null,
   "metadata": {},
   "outputs": [],
   "source": []
  }
 ],
 "metadata": {
  "kernelspec": {
   "display_name": "Python 3",
   "language": "python",
   "name": "python3"
  },
  "language_info": {
   "codemirror_mode": {
    "name": "ipython",
    "version": 3
   },
   "file_extension": ".py",
   "mimetype": "text/x-python",
   "name": "python",
   "nbconvert_exporter": "python",
   "pygments_lexer": "ipython3",
   "version": "3.12.1"
  }
 },
 "nbformat": 4,
 "nbformat_minor": 2
}
